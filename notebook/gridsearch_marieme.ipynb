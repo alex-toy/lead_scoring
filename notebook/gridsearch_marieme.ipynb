{
 "metadata": {
  "language_info": {
   "codemirror_mode": {
    "name": "ipython",
    "version": 3
   },
   "file_extension": ".py",
   "mimetype": "text/x-python",
   "name": "python",
   "nbconvert_exporter": "python",
   "pygments_lexer": "ipython3",
   "version": "3.8.5-final"
  },
  "orig_nbformat": 2,
  "kernelspec": {
   "name": "python3",
   "display_name": "Python 3.8.5 64-bit ('.venv')",
   "metadata": {
    "interpreter": {
     "hash": "b4198edf083f7b80cc3a80673219a27c6c37f0a613549bafdad152d8aaef6a6b"
    }
   }
  }
 },
 "nbformat": 4,
 "nbformat_minor": 2,
 "cells": [
  {
   "cell_type": "code",
   "execution_count": 11,
   "metadata": {},
   "outputs": [],
   "source": [
    "import numpy as np \n",
    "import pandas as pd\n",
    "\n",
    "from sklearn.base import BaseEstimator, TransformerMixin\n",
    "from sklearn.preprocessing import StandardScaler, LabelEncoder, LabelBinarizer, OrdinalEncoder, OneHotEncoder\n",
    "from sklearn.impute import SimpleImputer\n",
    "from sklearn.pipeline import FeatureUnion, Pipeline, make_pipeline\n",
    "from sklearn.linear_model import LogisticRegression, SGDClassifier\n",
    "from sklearn.model_selection import train_test_split, GridSearchCV, KFold\n",
    "from sklearn.metrics import confusion_matrix\n",
    "from sklearn.ensemble import RandomForestClassifier\n",
    "from sklearn.neighbors import KNeighborsRegressor, KNeighborsClassifier\n",
    "from sklearn.svm import SVC\n",
    "\n",
    "import matplotlib.pyplot as plt\n",
    "import seaborn as sns \n",
    "\n"
   ]
  },
  {
   "cell_type": "code",
   "execution_count": null,
   "metadata": {},
   "outputs": [],
   "source": [
    "import "
   ]
  },
  {
   "cell_type": "code",
   "execution_count": 13,
   "metadata": {},
   "outputs": [],
   "source": [
    "COLS_TO_KEEP = ['ORIGINE_LEAD', 'SOURCE_LEAD', 'NIVEAU_LEAD', 'TAGS', 'VILLE', 'SPECIALISATION', 'INDEX_ACTIVITE', 'QUALITE_LEAD', 'DERNIERE_ACTIVITE_NOTABLE','TARGET','NB_VISITES', 'SCORE_ACTIVITE', 'NB_PAGES_VUES_PAR_VISITE', 'SCORE_PROFIL', 'DUREE_SUR_SITEWEB']\n",
    "COLS_TO_KEEP = ['ORIGINE_LEAD', 'SOURCE_LEAD', 'NIVEAU_LEAD', 'QUALITE_LEAD', 'INDEX_ACTIVITE', 'QUALITE_LEAD','TARGET','NB_VISITES', 'NB_PAGES_VUES_PAR_VISITE', 'DUREE_SUR_SITEWEB']\n",
    "\n",
    "NEW_COL_NAMES = ['ID_CLIENT','ORIGINE_LEAD','SOURCE_LEAD','NIVEAU_LEAD','QUALITE_LEAD','CONTACT_PAR_MAIL','CONTACT_PAR_TELEPHONE','STATUT_ACTUEL','TARGET','NB_VISITES','DUREE_SUR_SITEWEB','NB_PAGES_VUES_PAR_VISITE','DERNIERE_ACTIVITE','DERNIERE_ACTIVITE_NOTABLE','PAYS','VILLE','SPECIALISATION','TAGS','INDEX_ACTIVITE','INDEX_PROFIL','SCORE_ACTIVITE','SCORE_PROFIL','ANNONCE_VUE','MAGAZINE','ARTICLE_JOURNAL','FORUM','JOURNAUX','PUB_DIGITALE','RECOMMANDATION','C_ENT_PARLER_NS','SOUH_TU_REC_INFOS','SOUH_REC_MAJ_PROG','SOUH_REC_MAJ_MP','SOUH_PAYER_CHEQUE','SOUH_REC_COPIE_LB'\n",
    "]\n",
    "\n",
    "CAT_FEAT = ['ORIGINE_LEAD','SOURCE_LEAD', 'NIVEAU_LEAD','TAGS','INDEX_ACTIVITE', 'QUALITE_LEAD', 'DERNIERE_ACTIVITE_NOTABLE']\n",
    "\n",
    "NUM_FEAT = ['NB_VISITES', 'SCORE_ACTIVITE', 'NB_PAGES_VUES_PAR_VISITE', 'SCORE_PROFIL', 'DUREE_SUR_SITEWEB']\n",
    "#NUM_FEAT = ['NB_VISITES', 'NB_PAGES_VUES_PAR_VISITE', 'DUREE_SUR_SITEWEB']"
   ]
  },
  {
   "cell_type": "code",
   "execution_count": 15,
   "metadata": {},
   "outputs": [],
   "source": [
    "use_origin_lead = ['formulaire lead add', 'soumission landing page', 'api']\n",
    "\n",
    "use_source_lead = ['olark chat', 'organic search', 'google', 'reference',\n",
    "                    'direct traffic', 'facebook', 'referral sites', 'welingak website']\n",
    "\n",
    "use_niveau_lead = ['select', 'autre leads', 'lead potentiel', \"etudiant d'une certaine ecole\"]\n",
    "\n",
    "use_qualite_lead = ['pas du tout pertinent', 'pourrait etre pertinent', 'pas sur',\n",
    "                    'tres pertinent', 'peu pertinent']\n",
    "\n",
    "use_der_act_not = ['email ouvert', 'modifie', 'sms envoye', 'page visitee sur le site', 'conversation chat',\n",
    "                    'a clique sur le lien dans le mail', 'email rejete', 'desinscrit', 'email marque comme spam']\n",
    "\n",
    "use_tags = ['appele', 'diplome en cours', 'deja un etudiant', 'desactive', 'ferme', \"interesse par d'autres cours\",\n",
    "            'interesse par un mba full-time', 'occupe', \"perdu au profit d'un concurrent\",\n",
    "        'ne pas suivre de formation continue', 'reviendra apres avoir lu le courriel']\n",
    "\n",
    "use_ville = ['select', 'autres villes de maharashtra', 'mumbai', 'autres villes', \n",
    "                'thane et sa peripherie', 'autres villes metropolitaines']\n",
    "\n",
    "use_spec = ['marketing management', 'banking, investment and insurance',\n",
    "       'hospitality management', 'finance management', 'select',\n",
    "       'it projects management', 'human resource management',\n",
    "       'travel and tourism', 'supply chain management',\n",
    "       'operations management', 'international business',\n",
    "       'business administration', 'healthcare management',\n",
    "       'media and advertising', 'retail management']\n",
    "\n",
    "use_index_act = ['moyen', 'eleve', 'faible']\n",
    "\n",
    "#############################\n",
    "\n",
    "\n",
    "use_origin_lead = ['Formulaire Lead Add', 'Soumission landing page', 'API']\n",
    "\n",
    "use_source_lead = ['Olark Chat', 'Organic Search', 'Google', 'Reference', 'Direct Traffic', \n",
    "                   'Facebook', 'Referral Sites', 'Welingak Website']\n",
    "\n",
    "use_niveau_lead = ['Select', 'Autre leads', 'Lead potentiel', \"Etudiant d'une certaine ecole\"]\n",
    "\n",
    "use_qualite_lead = ['Pas du tout pertinent', 'Pourrait etre pertinent', 'Pas sur', \n",
    "                    'Tres pertinent', 'Peu pertinent']\n",
    "\n",
    "use_der_act_not = ['Email ouvert', 'Modifie', 'SMS envoye', 'Page visitee sur le site', \n",
    "                   'Conversation Chat', 'A clique sur le lien dans le mail', 'Email rejete',\n",
    "                   'Desinscrit', 'Email marque comme Spam']\n",
    "\n",
    "use_tags = ['Appele', 'Diplôme en cours', 'Dejà un etudiant', 'Desactive', 'Ferme', \"Interesse par d'autres cours\", \n",
    " 'Interesse par un MBA full-time',  'Occupe', \"Perdu au profit d'un concurrent\", \n",
    " 'Ne pas suivre de formation continue', 'Reviendra apres avoir lu le courriel']\n",
    "\n",
    "use_ville = ['Select', 'Autres villes de Maharashtra', 'Mumbai', 'Autres villes', 'Thane et sa périphérie',\n",
    "               'Autres villes métropolitaines']\n",
    "\n",
    "use_spec = ['Marketing Management', 'Banking, Investment And Insurance',\n",
    "       'Hospitality Management', 'Finance Management', 'Select',\n",
    "       'IT Projects Management',\n",
    "       'Human Resource Management', 'Travel and Tourism',\n",
    "       'Supply Chain Management', 'Operations Management',\n",
    "       'International Business', 'Business Administration',\n",
    "       'Healthcare Management', 'Media and Advertising',\n",
    "       'Retail Management']\n",
    "\n",
    "use_index_act = ['Moyen', 'Elevé', 'Faible']"
   ]
  },
  {
   "cell_type": "code",
   "execution_count": 16,
   "metadata": {},
   "outputs": [],
   "source": [
    "use_lists = [\n",
    "    use_origin_lead,\n",
    "    use_source_lead,\n",
    "    use_niveau_lead,\n",
    "    use_tags,\n",
    "    use_ville,\n",
    "    use_spec,\n",
    "    use_index_act,\n",
    "    use_qualite_lead,\n",
    "    use_der_act_not,\n",
    "]"
   ]
  },
  {
   "cell_type": "code",
   "execution_count": 17,
   "metadata": {},
   "outputs": [],
   "source": [
    "class CleanDataTransformer :\n",
    "    \"\"\"\n",
    "    cleans customer data from raw file\n",
    "    \"\"\"\n",
    "\n",
    "    def __init__(self, path=\"\") :\n",
    "        self.path = path\n",
    "\n",
    "\n",
    "\n",
    "    def load_cleaned_data(self) :\n",
    "        \n",
    "        name, extension = os.path.splitext(self.path)\n",
    "        if extension == '.csv':\n",
    "            df = pd.read_csv(self.path, sep=';') \n",
    "        elif extension == '.parquet':\n",
    "            df = pd.read_parquet(self.path)\n",
    "        else:\n",
    "            raise FileExistsError('Extension must be parquet or csv.')\n",
    "\n",
    "        return self._clean_data(df)\n",
    "\n",
    "\n",
    "\n",
    "    def _clean_data(self, df) : \n",
    "        df = self.__change_columns_names__(df)\n",
    "        df = self.__select_columns__(df)\n",
    "        df = self.__remove_accents__(df)\n",
    "        return df\n",
    "\n",
    "    \n",
    "\n",
    "    def __change_columns_names__(self, df):\n",
    "        new_df = df.copy()\n",
    "        new_df.columns = NEW_COL_NAMES\n",
    "        return new_df\n",
    "\n",
    "\n",
    "    def __select_columns__(self, df) :\n",
    "        \"\"\"\n",
    "        Selection of columns is based on COLS_TO_KEEP parameter defined in config\n",
    "        \"\"\"\n",
    "        new_df = df.copy()\n",
    "        return new_df[COLS_TO_KEEP]\n",
    "\n",
    "\n",
    "    def __remove_accents__(self, df) :\n",
    "        new_df = df.copy()\n",
    "        for col in CAT_FEAT :\n",
    "            new_df[col] = new_df[col].str.lower(\n",
    "            ).str.replace('[éèê]', 'e', regex=True\n",
    "            ).str.replace('[ô]', 'o', regex=True\n",
    "            ).str.replace('[û]', 'u', regex=True\n",
    "            ).str.replace('[à]', 'a', regex=True)\n",
    "        return new_df\n"
   ]
  },
  {
   "cell_type": "code",
   "execution_count": 19,
   "metadata": {},
   "outputs": [
    {
     "output_type": "stream",
     "name": "stdout",
     "text": [
      "ORIGINE_LEAD: ['formulaire lead add' 'soumission landing page' 'api'\n 'importation de lead' 'formulaire quick add']\n\nSOURCE_LEAD: ['olark chat' 'organic search' 'google' 'reference' 'direct traffic'\n 'facebook' 'referral sites' 'welingak website' nan 'bing' 'testone'\n 'click2call' 'live chat' 'blog' 'social media' 'welearnblog_home'\n 'pay per click ads' 'welearn' 'press_release' 'nc_edm' 'youtubechannel']\n\nNIVEAU_LEAD: ['select' 'autre leads' nan 'lead potentiel'\n \"etudiant d'une certaine ecole\" 'etudiant'\n 'etudiant en double specialisation']\n\nTAGS: [nan 'ne pas suivre de formation continue'\n 'reviendra apres avoir lu le courriel' 'raccroche' 'deja un etudiant'\n \"interesse par d'autres cours\" \"titulaire d'un diplome (non eligible)\"\n 'appele' 'ferme' \"perdu au profit d'un concurrent\" 'numero invalide'\n 'diplome en cours' 'interesse par un mba full-time' 'occupe'\n 'mauvais numero' 'desactive' 'numero non fourni' 'reflexion en cours'\n 'interesse mais probleme financier' 'en contact avec un concurrent'\n 'etudiant en arrive tardive' 'interesse pour la prochaine session'\n \"va s'inscrire dans le mois a venir\"\n 'hesite entre le part-time et full-time' 'universite non reconnue'\n 'probleme de reconnaissance']\n\nVILLE: ['Select' 'Autres villes de Maharashtra' 'Mumbai' 'Autres villes' nan\n 'Thane et sa périphérie' 'Autres villes métropolitaines'\n 'Villes de niveau II']\n\nSPECIALISATION: ['Marketing Management' 'Banking, Investment And Insurance'\n 'Hospitality Management' 'Finance Management' 'Select' nan\n 'IT Projects Management' 'Services Excellence'\n 'Human Resource Management' 'Travel and Tourism'\n 'Supply Chain Management' 'Operations Management'\n 'International Business' 'Business Administration'\n 'Healthcare Management' 'Media and Advertising' 'Rural and Agribusiness'\n 'E-Business' 'Retail Management' 'E-COMMERCE']\n\nINDEX_ACTIVITE: [nan 'moyen' 'eleve' 'faible']\n\nQUALITE_LEAD: [nan 'pas du tout pertinent' 'pourrait etre pertinent' 'pas sur'\n 'tres pertinent' 'peu pertinent']\n\nDERNIERE_ACTIVITE_NOTABLE: ['email ouvert' 'modifie' 'sms envoye' 'page visitee sur le site'\n 'conversation chat' 'a clique sur le lien dans le mail' 'injoignable'\n 'email rejete' 'a eu une conversation telephonique' 'desinscrit'\n 'approche directe' 'email reçu' 'a clique sur le lien dand le navigateur'\n 'email marque comme spam' 'reinscrit aux emails'\n 'formulaire soumis sur le site']\n\nTARGET: [0 1]\n\nNB_VISITES: [  0.   3.   6.   2.   4.   1.   7.   5.  nan  11.   8.  13.  12.   9.\n  27.  25.  54.  20.  10.  16.  14.  17.  42.  18.  21.  32.  22.  15.\n  43.  26.  29.  19.  23.  24.  28. 115.  41.  74.  55. 141. 251.  30.]\n\nSCORE_ACTIVITE: [nan 15. 14. 16. 13. 12. 17. 10.  9. 11. 18.  8.  7.]\n\nNB_PAGES_VUES_PAR_VISITE: [ 0.    3.    2.    1.    4.    1.75  5.     nan  5.5   1.33  2.67  6.\n  4.33  1.5   1.25  1.57  7.    1.71  2.25  5.4   8.33  8.    2.17  3.5\n 11.    1.6   4.5   2.5   2.45  1.67  2.33  3.33  1.78  2.6   9.    1.27\n  6.5  13.    3.4   1.4   3.82  2.2   2.8  12.    4.25 10.    1.56  1.2\n  3.67  1.8   2.83  3.25  3.2   2.63  1.38  2.08  7.5   2.75  3.91  1.23\n  1.22 14.5  14.    2.71  1.83  2.22  1.21  5.25  2.14  1.43  2.09  1.17\n  4.75 15.    3.43 24.    3.75 16.    8.21  1.14  1.45  4.17  5.67  1.86\n 12.33  2.4   3.6  55.    1.93  8.5   1.64  5.33  1.54  3.17  3.57  6.71\n  3.8   2.13  3.83  1.48  1.19  3.38  2.57  2.38 11.5   2.56  6.67  1.63\n  2.29  1.31  2.86  3.29  2.9   4.4 ]\n\nSCORE_PROFIL: [nan 17. 19. 16. 18. 15. 14. 20. 13. 11. 12.]\n\nDUREE_SUR_SITEWEB: [   0  519  323 ...  632 1631 1797]\n\n"
     ]
    }
   ],
   "source": [
    "path = \"../data/data.csv\"\n",
    "clean_data= CleanDataTransformer(path)\n",
    "df_test = clean_data.load_cleaned_data()\n",
    "for feat in df_test.columns:\n",
    "    values = df_test[feat].unique()\n",
    "    print(\"{}: {}\\n\".format(feat,values))\n"
   ]
  },
  {
   "cell_type": "code",
   "execution_count": 20,
   "metadata": {},
   "outputs": [],
   "source": [
    "y = df_test['TARGET']\n",
    "X = df_test.drop('TARGET', axis=1)\n",
    "X_train, X_test, y_train, y_test = train_test_split(X, y, test_size=0.2,random_state = 42)"
   ]
  },
  {
   "cell_type": "code",
   "execution_count": 21,
   "metadata": {},
   "outputs": [],
   "source": [
    "class FeatureSelector( BaseEstimator, TransformerMixin ):\n",
    "    \n",
    "    def __init__( self, _feature_names ):\n",
    "        self._feature_names = _feature_names\n",
    "    \n",
    "    def fit( self, X, y = None ):\n",
    "        return self \n",
    "    \n",
    "    def transform( self, X, y = None ):\n",
    "        return X[self._feature_names]"
   ]
  },
  {
   "cell_type": "code",
   "execution_count": 22,
   "metadata": {},
   "outputs": [],
   "source": [
    "class NumericalTransformer(BaseEstimator, TransformerMixin):\n",
    "    \"\"\"\n",
    "    remove outliers\n",
    "    \"\"\"\n",
    "    \n",
    "    def __init__( self ) :\n",
    "        pass\n",
    "        \n",
    "        \n",
    "    def fit( self, X, y = None ) :\n",
    "        return self \n",
    "\n",
    "\n",
    "    def transform(self, X , y = None ):\n",
    "        new_X =X\n",
    "        new_X .loc[new_X ['NB_VISITES'] > 50,['NB_VISITES']] = 50 \n",
    "        new_X .loc[new_X ['NB_PAGES_VUES_PAR_VISITE'] > 20, ['NB_PAGES_VUES_PAR_VISITE']] = 20\n",
    "\n",
    "        return new_X \n"
   ]
  },
  {
   "cell_type": "code",
   "execution_count": 87,
   "metadata": {},
   "outputs": [
    {
     "output_type": "execute_result",
     "data": {
      "text/plain": [
       "      NB_VISITES  SCORE_ACTIVITE  NB_PAGES_VUES_PAR_VISITE  SCORE_PROFIL  \\\n",
       "4170         3.0             NaN                       1.5           NaN   \n",
       "9077         2.0            13.0                       2.0          15.0   \n",
       "2254         0.0            15.0                       0.0          16.0   \n",
       "696          2.0             NaN                       2.0           NaN   \n",
       "1103         0.0             NaN                       0.0           NaN   \n",
       "...          ...             ...                       ...           ...   \n",
       "5734         4.0            14.0                       4.0          17.0   \n",
       "5191         0.0             NaN                       0.0           NaN   \n",
       "5390         0.0            17.0                       0.0          15.0   \n",
       "860          1.0             NaN                       1.0           NaN   \n",
       "7270         0.0            17.0                       0.0          15.0   \n",
       "\n",
       "      DUREE_SUR_SITEWEB  \n",
       "4170                101  \n",
       "9077                339  \n",
       "2254                  0  \n",
       "696                 382  \n",
       "1103                  0  \n",
       "...                 ...  \n",
       "5734               1378  \n",
       "5191                  0  \n",
       "5390                  0  \n",
       "860                  49  \n",
       "7270                  0  \n",
       "\n",
       "[7354 rows x 5 columns]"
      ],
      "text/html": "<div>\n<style scoped>\n    .dataframe tbody tr th:only-of-type {\n        vertical-align: middle;\n    }\n\n    .dataframe tbody tr th {\n        vertical-align: top;\n    }\n\n    .dataframe thead th {\n        text-align: right;\n    }\n</style>\n<table border=\"1\" class=\"dataframe\">\n  <thead>\n    <tr style=\"text-align: right;\">\n      <th></th>\n      <th>NB_VISITES</th>\n      <th>SCORE_ACTIVITE</th>\n      <th>NB_PAGES_VUES_PAR_VISITE</th>\n      <th>SCORE_PROFIL</th>\n      <th>DUREE_SUR_SITEWEB</th>\n    </tr>\n  </thead>\n  <tbody>\n    <tr>\n      <th>4170</th>\n      <td>3.0</td>\n      <td>NaN</td>\n      <td>1.5</td>\n      <td>NaN</td>\n      <td>101</td>\n    </tr>\n    <tr>\n      <th>9077</th>\n      <td>2.0</td>\n      <td>13.0</td>\n      <td>2.0</td>\n      <td>15.0</td>\n      <td>339</td>\n    </tr>\n    <tr>\n      <th>2254</th>\n      <td>0.0</td>\n      <td>15.0</td>\n      <td>0.0</td>\n      <td>16.0</td>\n      <td>0</td>\n    </tr>\n    <tr>\n      <th>696</th>\n      <td>2.0</td>\n      <td>NaN</td>\n      <td>2.0</td>\n      <td>NaN</td>\n      <td>382</td>\n    </tr>\n    <tr>\n      <th>1103</th>\n      <td>0.0</td>\n      <td>NaN</td>\n      <td>0.0</td>\n      <td>NaN</td>\n      <td>0</td>\n    </tr>\n    <tr>\n      <th>...</th>\n      <td>...</td>\n      <td>...</td>\n      <td>...</td>\n      <td>...</td>\n      <td>...</td>\n    </tr>\n    <tr>\n      <th>5734</th>\n      <td>4.0</td>\n      <td>14.0</td>\n      <td>4.0</td>\n      <td>17.0</td>\n      <td>1378</td>\n    </tr>\n    <tr>\n      <th>5191</th>\n      <td>0.0</td>\n      <td>NaN</td>\n      <td>0.0</td>\n      <td>NaN</td>\n      <td>0</td>\n    </tr>\n    <tr>\n      <th>5390</th>\n      <td>0.0</td>\n      <td>17.0</td>\n      <td>0.0</td>\n      <td>15.0</td>\n      <td>0</td>\n    </tr>\n    <tr>\n      <th>860</th>\n      <td>1.0</td>\n      <td>NaN</td>\n      <td>1.0</td>\n      <td>NaN</td>\n      <td>49</td>\n    </tr>\n    <tr>\n      <th>7270</th>\n      <td>0.0</td>\n      <td>17.0</td>\n      <td>0.0</td>\n      <td>15.0</td>\n      <td>0</td>\n    </tr>\n  </tbody>\n</table>\n<p>7354 rows × 5 columns</p>\n</div>"
     },
     "metadata": {},
     "execution_count": 87
    }
   ],
   "source": [
    "numerical_pipeline = Pipeline( steps = [ \n",
    "            ( 'num_selector', FeatureSelector(NUM_FEAT) )])\n",
    "numerical_pipeline.fit_transform(X_train, y_train)\n"
   ]
  },
  {
   "cell_type": "code",
   "execution_count": 88,
   "metadata": {},
   "outputs": [
    {
     "output_type": "execute_result",
     "data": {
      "text/plain": [
       "        NB_VISITES  SCORE_ACTIVITE  NB_PAGES_VUES_PAR_VISITE  SCORE_PROFIL  \\\n",
       "count  7239.000000     4009.000000               7239.000000   4009.000000   \n",
       "mean      3.380439       14.294837                  2.354694     16.327763   \n",
       "std       3.634828        1.387633                  2.102477      1.809635   \n",
       "min       0.000000        7.000000                  0.000000     11.000000   \n",
       "25%       1.000000       14.000000                  1.000000     15.000000   \n",
       "50%       3.000000       14.000000                  2.000000     16.000000   \n",
       "75%       5.000000       15.000000                  3.000000     18.000000   \n",
       "max      50.000000       18.000000                 20.000000     20.000000   \n",
       "\n",
       "       DUREE_SUR_SITEWEB  \n",
       "count        7354.000000  \n",
       "mean          486.519309  \n",
       "std           547.702383  \n",
       "min             0.000000  \n",
       "25%            12.000000  \n",
       "50%           247.000000  \n",
       "75%           931.000000  \n",
       "max          2272.000000  "
      ],
      "text/html": "<div>\n<style scoped>\n    .dataframe tbody tr th:only-of-type {\n        vertical-align: middle;\n    }\n\n    .dataframe tbody tr th {\n        vertical-align: top;\n    }\n\n    .dataframe thead th {\n        text-align: right;\n    }\n</style>\n<table border=\"1\" class=\"dataframe\">\n  <thead>\n    <tr style=\"text-align: right;\">\n      <th></th>\n      <th>NB_VISITES</th>\n      <th>SCORE_ACTIVITE</th>\n      <th>NB_PAGES_VUES_PAR_VISITE</th>\n      <th>SCORE_PROFIL</th>\n      <th>DUREE_SUR_SITEWEB</th>\n    </tr>\n  </thead>\n  <tbody>\n    <tr>\n      <th>count</th>\n      <td>7239.000000</td>\n      <td>4009.000000</td>\n      <td>7239.000000</td>\n      <td>4009.000000</td>\n      <td>7354.000000</td>\n    </tr>\n    <tr>\n      <th>mean</th>\n      <td>3.380439</td>\n      <td>14.294837</td>\n      <td>2.354694</td>\n      <td>16.327763</td>\n      <td>486.519309</td>\n    </tr>\n    <tr>\n      <th>std</th>\n      <td>3.634828</td>\n      <td>1.387633</td>\n      <td>2.102477</td>\n      <td>1.809635</td>\n      <td>547.702383</td>\n    </tr>\n    <tr>\n      <th>min</th>\n      <td>0.000000</td>\n      <td>7.000000</td>\n      <td>0.000000</td>\n      <td>11.000000</td>\n      <td>0.000000</td>\n    </tr>\n    <tr>\n      <th>25%</th>\n      <td>1.000000</td>\n      <td>14.000000</td>\n      <td>1.000000</td>\n      <td>15.000000</td>\n      <td>12.000000</td>\n    </tr>\n    <tr>\n      <th>50%</th>\n      <td>3.000000</td>\n      <td>14.000000</td>\n      <td>2.000000</td>\n      <td>16.000000</td>\n      <td>247.000000</td>\n    </tr>\n    <tr>\n      <th>75%</th>\n      <td>5.000000</td>\n      <td>15.000000</td>\n      <td>3.000000</td>\n      <td>18.000000</td>\n      <td>931.000000</td>\n    </tr>\n    <tr>\n      <th>max</th>\n      <td>50.000000</td>\n      <td>18.000000</td>\n      <td>20.000000</td>\n      <td>20.000000</td>\n      <td>2272.000000</td>\n    </tr>\n  </tbody>\n</table>\n</div>"
     },
     "metadata": {},
     "execution_count": 88
    }
   ],
   "source": [
    "numerical_pipeline = Pipeline( steps = [ \n",
    "            ( 'num_selector', FeatureSelector(NUM_FEAT) ),\n",
    "            ( 'num_transformer', NumericalTransformer() )\n",
    "             \n",
    "    ])\n",
    "numerical_pipeline.fit_transform(X_train, y_train).describe()"
   ]
  },
  {
   "cell_type": "code",
   "execution_count": 89,
   "metadata": {},
   "outputs": [
    {
     "output_type": "execute_result",
     "data": {
      "text/plain": [
       "array([[  3. ,  14. ,   1.5,  16. , 101. ],\n",
       "       [  2. ,  13. ,   2. ,  15. , 339. ],\n",
       "       [  0. ,  15. ,   0. ,  16. ,   0. ],\n",
       "       ...,\n",
       "       [  0. ,  17. ,   0. ,  15. ,   0. ],\n",
       "       [  1. ,  14. ,   1. ,  16. ,  49. ],\n",
       "       [  0. ,  17. ,   0. ,  15. ,   0. ]])"
      ]
     },
     "metadata": {},
     "execution_count": 89
    }
   ],
   "source": [
    "numerical_pipeline = Pipeline( steps = [ \n",
    "            ( 'num_selector', FeatureSelector(NUM_FEAT) ),\n",
    "            ( 'num_transformer', NumericalTransformer() ),\n",
    "            ( 'num_inputer', SimpleImputer(missing_values = np.nan,strategy='median') )\n",
    "            ])\n",
    "numerical_pipeline.fit_transform(X_train, y_train)\n"
   ]
  },
  {
   "cell_type": "code",
   "execution_count": 91,
   "metadata": {},
   "outputs": [
    {
     "output_type": "execute_result",
     "data": {
      "text/plain": [
       "array([[-0.1038417 , -0.15531103, -0.40701249, -0.13275828, -0.70393253],\n",
       "       [-0.38112994, -1.12160318, -0.16735299, -0.87576008, -0.26936041],\n",
       "       [-0.93570644,  0.81098111, -1.12599101, -0.13275828, -0.88835179],\n",
       "       ...,\n",
       "       [-0.93570644,  2.7435654 , -1.12599101, -0.87576008, -0.88835179],\n",
       "       [-0.65841819, -0.15531103, -0.646672  , -0.13275828, -0.79888106],\n",
       "       [-0.93570644,  2.7435654 , -1.12599101, -0.87576008, -0.88835179]])"
      ]
     },
     "metadata": {},
     "execution_count": 91
    }
   ],
   "source": [
    " numerical_pipeline = Pipeline( steps = [ \n",
    "            ( 'num_selector', FeatureSelector(NUM_FEAT) ),\n",
    "            ( 'num_transformer', NumericalTransformer() ),\n",
    "            ( 'num_inputer', SimpleImputer(missing_values = np.nan,strategy='median') ),\n",
    "            ( 'std_scaler', StandardScaler() ) \n",
    "    ])\n",
    "numerical_pipeline.fit_transform(X_train, y_train)"
   ]
  },
  {
   "cell_type": "code",
   "execution_count": 23,
   "metadata": {},
   "outputs": [],
   "source": [
    "class CategoricalTransformer( BaseEstimator, TransformerMixin ):\n",
    "    \n",
    "    def __init__(self) :\n",
    "        pass\n",
    "        \n",
    "\n",
    "        \n",
    "    def fit( self, X, y = None  ):\n",
    "        return self\n",
    "\n",
    "\n",
    "\n",
    "    def __handle_column__(self, obj, feature_values):\n",
    "        if not isinstance(obj, str) : return 'other'\n",
    "        if obj in feature_values : return obj\n",
    "        return 'other'\n",
    "    \n",
    "    \n",
    "    \n",
    "    def transform(self, X , y = None ):\n",
    "\n",
    "        new_X = X.copy()\n",
    "\n",
    "        for col, use_list in zip(CAT_FEAT, use_lists):\n",
    "            new_X[col] = new_X[col].apply( lambda row : self.__handle_column__(row, use_list))\n",
    "\n",
    "        return new_X\n",
    "    \n"
   ]
  },
  {
   "cell_type": "code",
   "execution_count": 92,
   "metadata": {},
   "outputs": [
    {
     "output_type": "execute_result",
     "data": {
      "text/plain": [
       "                 ORIGINE_LEAD     SOURCE_LEAD                    NIVEAU_LEAD  \\\n",
       "4170                      api      olark chat                         select   \n",
       "9077                      api          google                         select   \n",
       "2254                      api      olark chat                 lead potentiel   \n",
       "696   soumission landing page  direct traffic  etudiant d'une certaine ecole   \n",
       "1103                      api      olark chat                         select   \n",
       "...                       ...             ...                            ...   \n",
       "5734  soumission landing page  organic search                         select   \n",
       "5191                      api      olark chat                         select   \n",
       "5390                      api      olark chat                            NaN   \n",
       "860   soumission landing page  direct traffic                    autre leads   \n",
       "7270                      api      olark chat                            NaN   \n",
       "\n",
       "                                      TAGS   VILLE             SPECIALISATION  \\\n",
       "4170                      deja un etudiant  select                     select   \n",
       "9077                             desactive  mumbai      media and advertising   \n",
       "2254        interesse par un mba full-time  select       marketing management   \n",
       "696                       deja un etudiant  mumbai         finance management   \n",
       "1103  reviendra apres avoir lu le courriel  select                     select   \n",
       "...                                    ...     ...                        ...   \n",
       "5734  reviendra apres avoir lu le courriel  select  human resource management   \n",
       "5191                                   NaN  select                     select   \n",
       "5390                                   NaN     NaN                        NaN   \n",
       "860    ne pas suivre de formation continue  mumbai     hospitality management   \n",
       "7270                                   NaN     NaN                        NaN   \n",
       "\n",
       "     INDEX_ACTIVITE             QUALITE_LEAD  \\\n",
       "4170            NaN    pas du tout pertinent   \n",
       "9077          moyen                  pas sur   \n",
       "2254          moyen                  pas sur   \n",
       "696             NaN    pas du tout pertinent   \n",
       "1103            NaN  pourrait etre pertinent   \n",
       "...             ...                      ...   \n",
       "5734          moyen  pourrait etre pertinent   \n",
       "5191            NaN                      NaN   \n",
       "5390          eleve                      NaN   \n",
       "860             NaN    pas du tout pertinent   \n",
       "7270          eleve                      NaN   \n",
       "\n",
       "              DERNIERE_ACTIVITE_NOTABLE  \n",
       "4170                       email ouvert  \n",
       "9077                            modifie  \n",
       "2254                            modifie  \n",
       "696                        email ouvert  \n",
       "1103                       email ouvert  \n",
       "...                                 ...  \n",
       "5734                            modifie  \n",
       "5191  a clique sur le lien dans le mail  \n",
       "5390                            modifie  \n",
       "860                             modifie  \n",
       "7270                            modifie  \n",
       "\n",
       "[7354 rows x 9 columns]"
      ],
      "text/html": "<div>\n<style scoped>\n    .dataframe tbody tr th:only-of-type {\n        vertical-align: middle;\n    }\n\n    .dataframe tbody tr th {\n        vertical-align: top;\n    }\n\n    .dataframe thead th {\n        text-align: right;\n    }\n</style>\n<table border=\"1\" class=\"dataframe\">\n  <thead>\n    <tr style=\"text-align: right;\">\n      <th></th>\n      <th>ORIGINE_LEAD</th>\n      <th>SOURCE_LEAD</th>\n      <th>NIVEAU_LEAD</th>\n      <th>TAGS</th>\n      <th>VILLE</th>\n      <th>SPECIALISATION</th>\n      <th>INDEX_ACTIVITE</th>\n      <th>QUALITE_LEAD</th>\n      <th>DERNIERE_ACTIVITE_NOTABLE</th>\n    </tr>\n  </thead>\n  <tbody>\n    <tr>\n      <th>4170</th>\n      <td>api</td>\n      <td>olark chat</td>\n      <td>select</td>\n      <td>deja un etudiant</td>\n      <td>select</td>\n      <td>select</td>\n      <td>NaN</td>\n      <td>pas du tout pertinent</td>\n      <td>email ouvert</td>\n    </tr>\n    <tr>\n      <th>9077</th>\n      <td>api</td>\n      <td>google</td>\n      <td>select</td>\n      <td>desactive</td>\n      <td>mumbai</td>\n      <td>media and advertising</td>\n      <td>moyen</td>\n      <td>pas sur</td>\n      <td>modifie</td>\n    </tr>\n    <tr>\n      <th>2254</th>\n      <td>api</td>\n      <td>olark chat</td>\n      <td>lead potentiel</td>\n      <td>interesse par un mba full-time</td>\n      <td>select</td>\n      <td>marketing management</td>\n      <td>moyen</td>\n      <td>pas sur</td>\n      <td>modifie</td>\n    </tr>\n    <tr>\n      <th>696</th>\n      <td>soumission landing page</td>\n      <td>direct traffic</td>\n      <td>etudiant d'une certaine ecole</td>\n      <td>deja un etudiant</td>\n      <td>mumbai</td>\n      <td>finance management</td>\n      <td>NaN</td>\n      <td>pas du tout pertinent</td>\n      <td>email ouvert</td>\n    </tr>\n    <tr>\n      <th>1103</th>\n      <td>api</td>\n      <td>olark chat</td>\n      <td>select</td>\n      <td>reviendra apres avoir lu le courriel</td>\n      <td>select</td>\n      <td>select</td>\n      <td>NaN</td>\n      <td>pourrait etre pertinent</td>\n      <td>email ouvert</td>\n    </tr>\n    <tr>\n      <th>...</th>\n      <td>...</td>\n      <td>...</td>\n      <td>...</td>\n      <td>...</td>\n      <td>...</td>\n      <td>...</td>\n      <td>...</td>\n      <td>...</td>\n      <td>...</td>\n    </tr>\n    <tr>\n      <th>5734</th>\n      <td>soumission landing page</td>\n      <td>organic search</td>\n      <td>select</td>\n      <td>reviendra apres avoir lu le courriel</td>\n      <td>select</td>\n      <td>human resource management</td>\n      <td>moyen</td>\n      <td>pourrait etre pertinent</td>\n      <td>modifie</td>\n    </tr>\n    <tr>\n      <th>5191</th>\n      <td>api</td>\n      <td>olark chat</td>\n      <td>select</td>\n      <td>NaN</td>\n      <td>select</td>\n      <td>select</td>\n      <td>NaN</td>\n      <td>NaN</td>\n      <td>a clique sur le lien dans le mail</td>\n    </tr>\n    <tr>\n      <th>5390</th>\n      <td>api</td>\n      <td>olark chat</td>\n      <td>NaN</td>\n      <td>NaN</td>\n      <td>NaN</td>\n      <td>NaN</td>\n      <td>eleve</td>\n      <td>NaN</td>\n      <td>modifie</td>\n    </tr>\n    <tr>\n      <th>860</th>\n      <td>soumission landing page</td>\n      <td>direct traffic</td>\n      <td>autre leads</td>\n      <td>ne pas suivre de formation continue</td>\n      <td>mumbai</td>\n      <td>hospitality management</td>\n      <td>NaN</td>\n      <td>pas du tout pertinent</td>\n      <td>modifie</td>\n    </tr>\n    <tr>\n      <th>7270</th>\n      <td>api</td>\n      <td>olark chat</td>\n      <td>NaN</td>\n      <td>NaN</td>\n      <td>NaN</td>\n      <td>NaN</td>\n      <td>eleve</td>\n      <td>NaN</td>\n      <td>modifie</td>\n    </tr>\n  </tbody>\n</table>\n<p>7354 rows × 9 columns</p>\n</div>"
     },
     "metadata": {},
     "execution_count": 92
    }
   ],
   "source": [
    "categorical_pipeline = Pipeline( steps = [ \n",
    "            ( 'cat_selector', FeatureSelector(CAT_FEAT) )\n",
    "])\n",
    "\n",
    "categorical_pipeline.fit_transform(X_train, y_train)"
   ]
  },
  {
   "cell_type": "code",
   "execution_count": 95,
   "metadata": {},
   "outputs": [
    {
     "output_type": "execute_result",
     "data": {
      "text/plain": [
       "     ORIGINE_LEAD SOURCE_LEAD NIVEAU_LEAD   TAGS  VILLE SPECIALISATION  \\\n",
       "4170        other       other       other  other  other          other   \n",
       "9077        other       other       other  other  other          other   \n",
       "2254        other       other       other  other  other          other   \n",
       "696         other       other       other  other  other          other   \n",
       "1103        other       other       other  other  other          other   \n",
       "...           ...         ...         ...    ...    ...            ...   \n",
       "5734        other       other       other  other  other          other   \n",
       "5191        other       other       other  other  other          other   \n",
       "5390        other       other       other  other  other          other   \n",
       "860         other       other       other  other  other          other   \n",
       "7270        other       other       other  other  other          other   \n",
       "\n",
       "     INDEX_ACTIVITE QUALITE_LEAD DERNIERE_ACTIVITE_NOTABLE  \n",
       "4170          other        other                     other  \n",
       "9077          other        other                     other  \n",
       "2254          other        other                     other  \n",
       "696           other        other                     other  \n",
       "1103          other        other                     other  \n",
       "...             ...          ...                       ...  \n",
       "5734          other        other                     other  \n",
       "5191          other        other                     other  \n",
       "5390          other        other                     other  \n",
       "860           other        other                     other  \n",
       "7270          other        other                     other  \n",
       "\n",
       "[7354 rows x 9 columns]"
      ],
      "text/html": "<div>\n<style scoped>\n    .dataframe tbody tr th:only-of-type {\n        vertical-align: middle;\n    }\n\n    .dataframe tbody tr th {\n        vertical-align: top;\n    }\n\n    .dataframe thead th {\n        text-align: right;\n    }\n</style>\n<table border=\"1\" class=\"dataframe\">\n  <thead>\n    <tr style=\"text-align: right;\">\n      <th></th>\n      <th>ORIGINE_LEAD</th>\n      <th>SOURCE_LEAD</th>\n      <th>NIVEAU_LEAD</th>\n      <th>TAGS</th>\n      <th>VILLE</th>\n      <th>SPECIALISATION</th>\n      <th>INDEX_ACTIVITE</th>\n      <th>QUALITE_LEAD</th>\n      <th>DERNIERE_ACTIVITE_NOTABLE</th>\n    </tr>\n  </thead>\n  <tbody>\n    <tr>\n      <th>4170</th>\n      <td>other</td>\n      <td>other</td>\n      <td>other</td>\n      <td>other</td>\n      <td>other</td>\n      <td>other</td>\n      <td>other</td>\n      <td>other</td>\n      <td>other</td>\n    </tr>\n    <tr>\n      <th>9077</th>\n      <td>other</td>\n      <td>other</td>\n      <td>other</td>\n      <td>other</td>\n      <td>other</td>\n      <td>other</td>\n      <td>other</td>\n      <td>other</td>\n      <td>other</td>\n    </tr>\n    <tr>\n      <th>2254</th>\n      <td>other</td>\n      <td>other</td>\n      <td>other</td>\n      <td>other</td>\n      <td>other</td>\n      <td>other</td>\n      <td>other</td>\n      <td>other</td>\n      <td>other</td>\n    </tr>\n    <tr>\n      <th>696</th>\n      <td>other</td>\n      <td>other</td>\n      <td>other</td>\n      <td>other</td>\n      <td>other</td>\n      <td>other</td>\n      <td>other</td>\n      <td>other</td>\n      <td>other</td>\n    </tr>\n    <tr>\n      <th>1103</th>\n      <td>other</td>\n      <td>other</td>\n      <td>other</td>\n      <td>other</td>\n      <td>other</td>\n      <td>other</td>\n      <td>other</td>\n      <td>other</td>\n      <td>other</td>\n    </tr>\n    <tr>\n      <th>...</th>\n      <td>...</td>\n      <td>...</td>\n      <td>...</td>\n      <td>...</td>\n      <td>...</td>\n      <td>...</td>\n      <td>...</td>\n      <td>...</td>\n      <td>...</td>\n    </tr>\n    <tr>\n      <th>5734</th>\n      <td>other</td>\n      <td>other</td>\n      <td>other</td>\n      <td>other</td>\n      <td>other</td>\n      <td>other</td>\n      <td>other</td>\n      <td>other</td>\n      <td>other</td>\n    </tr>\n    <tr>\n      <th>5191</th>\n      <td>other</td>\n      <td>other</td>\n      <td>other</td>\n      <td>other</td>\n      <td>other</td>\n      <td>other</td>\n      <td>other</td>\n      <td>other</td>\n      <td>other</td>\n    </tr>\n    <tr>\n      <th>5390</th>\n      <td>other</td>\n      <td>other</td>\n      <td>other</td>\n      <td>other</td>\n      <td>other</td>\n      <td>other</td>\n      <td>other</td>\n      <td>other</td>\n      <td>other</td>\n    </tr>\n    <tr>\n      <th>860</th>\n      <td>other</td>\n      <td>other</td>\n      <td>other</td>\n      <td>other</td>\n      <td>other</td>\n      <td>other</td>\n      <td>other</td>\n      <td>other</td>\n      <td>other</td>\n    </tr>\n    <tr>\n      <th>7270</th>\n      <td>other</td>\n      <td>other</td>\n      <td>other</td>\n      <td>other</td>\n      <td>other</td>\n      <td>other</td>\n      <td>other</td>\n      <td>other</td>\n      <td>other</td>\n    </tr>\n  </tbody>\n</table>\n<p>7354 rows × 9 columns</p>\n</div>"
     },
     "metadata": {},
     "execution_count": 95
    }
   ],
   "source": [
    " categorical_pipeline = Pipeline( steps = [ \n",
    "            ( 'cat_selector', FeatureSelector(CAT_FEAT) ),\n",
    "            ( 'cat_transformer', CategoricalTransformer() )\n",
    " ])\n",
    " categorical_trans = categorical_pipeline.fit_transform(X_train, y_train)\n",
    " categorical_trans"
   ]
  },
  {
   "cell_type": "code",
   "execution_count": 96,
   "metadata": {},
   "outputs": [
    {
     "output_type": "stream",
     "name": "stdout",
     "text": [
      "ORIGINE_LEAD: ['other']\n\nSOURCE_LEAD: ['other']\n\nNIVEAU_LEAD: ['other']\n\nTAGS: ['other']\n\nVILLE: ['other']\n\nSPECIALISATION: ['other']\n\nINDEX_ACTIVITE: ['other']\n\nQUALITE_LEAD: ['other']\n\nDERNIERE_ACTIVITE_NOTABLE: ['other']\n\n"
     ]
    }
   ],
   "source": [
    "for feat in categorical_trans.columns:\n",
    "    values = categorical_trans[feat].unique()\n",
    "    print(\"{}: {}\\n\".format(feat,values))"
   ]
  },
  {
   "cell_type": "code",
   "execution_count": 103,
   "metadata": {},
   "outputs": [
    {
     "output_type": "execute_result",
     "data": {
      "text/plain": [
       "array([['api', 'olark chat', 'select', ..., 'moyen',\n",
       "        'pas du tout pertinent', 'email ouvert'],\n",
       "       ['api', 'google', 'select', ..., 'moyen', 'pas sur', 'modifie'],\n",
       "       ['api', 'olark chat', 'lead potentiel', ..., 'moyen', 'pas sur',\n",
       "        'modifie'],\n",
       "       ...,\n",
       "       ['api', 'olark chat', 'select', ..., 'eleve',\n",
       "        'pourrait etre pertinent', 'modifie'],\n",
       "       ['soumission landing page', 'direct traffic', 'autre leads', ...,\n",
       "        'moyen', 'pas du tout pertinent', 'modifie'],\n",
       "       ['api', 'olark chat', 'select', ..., 'eleve',\n",
       "        'pourrait etre pertinent', 'modifie']], dtype=object)"
      ]
     },
     "metadata": {},
     "execution_count": 103
    }
   ],
   "source": [
    " categorical_pipeline = Pipeline( steps = [ \n",
    "            ( 'cat_selector', FeatureSelector(CAT_FEAT) ),\n",
    "            ( 'cat_inputer', SimpleImputer(missing_values = np.nan,strategy='most_frequent') )\n",
    "    ])\n",
    " categorical_trans = categorical_pipeline.fit_transform(X_train, y_train)\n",
    " categorical_trans"
   ]
  },
  {
   "cell_type": "code",
   "execution_count": 108,
   "metadata": {},
   "outputs": [
    {
     "output_type": "execute_result",
     "data": {
      "text/plain": [
       "array([['api', 'olark chat', 'lead potentiel', ..., 'moyen',\n",
       "        'pas du tout pertinent', 'email ouvert'],\n",
       "       ['api', 'google', 'lead potentiel', ..., 'moyen', 'pas sur',\n",
       "        'modifie'],\n",
       "       ['api', 'olark chat', 'lead potentiel', ..., 'moyen', 'pas sur',\n",
       "        'modifie'],\n",
       "       ...,\n",
       "       ['api', 'olark chat', 'lead potentiel', ..., 'eleve',\n",
       "        'pourrait etre pertinent', 'modifie'],\n",
       "       ['soumission landing page', 'direct traffic', 'autre leads', ...,\n",
       "        'moyen', 'pas du tout pertinent', 'modifie'],\n",
       "       ['api', 'olark chat', 'lead potentiel', ..., 'eleve',\n",
       "        'pourrait etre pertinent', 'modifie']], dtype=object)"
      ]
     },
     "metadata": {},
     "execution_count": 108
    }
   ],
   "source": [
    "categorical_pipeline = Pipeline( steps = [ \n",
    "            ( 'cat_selector', FeatureSelector(CAT_FEAT) ),\n",
    "            ( 'cat_inputer1', SimpleImputer(missing_values = np.nan,strategy='most_frequent') ),\n",
    "            ( 'cat_inputer2', SimpleImputer(missing_values = 'select',strategy='most_frequent') )\n",
    "    ])\n",
    "categorical_trans = categorical_pipeline.fit_transform(X_train, y_train)\n",
    "categorical_trans"
   ]
  },
  {
   "cell_type": "code",
   "execution_count": 130,
   "metadata": {},
   "outputs": [
    {
     "output_type": "execute_result",
     "data": {
      "text/plain": [
       "<7354x101 sparse matrix of type '<class 'numpy.float64'>'\n",
       "\twith 66186 stored elements in Compressed Sparse Row format>"
      ]
     },
     "metadata": {},
     "execution_count": 130
    }
   ],
   "source": [
    "categorical_pipeline = Pipeline( steps = [ \n",
    "            ( 'cat_selector', FeatureSelector(CAT_FEAT) ),\n",
    "            ( 'cat_inputer1', SimpleImputer(missing_values = np.nan,strategy='most_frequent') ),\n",
    "            ( 'cat_inputer2', SimpleImputer(missing_values = 'select',strategy='most_frequent') ),\n",
    "            ( 'one_hot_encoder', OneHotEncoder( sparse = True ) )\n",
    "    ])\n",
    "categorical_trans = categorical_pipeline.fit_transform(X_train, y_train)\n",
    "categorical_trans\n"
   ]
  },
  {
   "cell_type": "code",
   "execution_count": 127,
   "metadata": {},
   "outputs": [
    {
     "output_type": "execute_result",
     "data": {
      "text/plain": [
       "<bound method FeatureUnion.get_feature_names of FeatureUnion(transformer_list=[('categorical_pipeline',\n",
       "                                Pipeline(steps=[('cat_selector',\n",
       "                                                 FeatureSelector(feature_names=None)),\n",
       "                                                ('cat_inputer1',\n",
       "                                                 SimpleImputer(strategy='most_frequent')),\n",
       "                                                ('cat_inputer2',\n",
       "                                                 SimpleImputer(missing_values='select',\n",
       "                                                               strategy='most_frequent'))])),\n",
       "                               ('numerical_pipeline',\n",
       "                                Pipeline(steps=[('num_selector',\n",
       "                                                 FeatureSelector(feature_names=None)),\n",
       "                                                ('num_transformer',\n",
       "                                                 NumericalTransformer()),\n",
       "                                                ('num_inputer',\n",
       "                                                 SimpleImputer(strategy='median')),\n",
       "                                                ('std_scaler',\n",
       "                                                 StandardScaler())]))])>"
      ]
     },
     "metadata": {},
     "execution_count": 127
    }
   ],
   "source": [
    "\n",
    "\n",
    "\n"
   ]
  },
  {
   "cell_type": "code",
   "execution_count": 24,
   "metadata": {},
   "outputs": [
    {
     "output_type": "execute_result",
     "data": {
      "text/plain": [
       "<bound method FeatureUnion.get_feature_names of FeatureUnion(transformer_list=[('categorical_pipeline',\n",
       "                                Pipeline(steps=[('cat_selector',\n",
       "                                                 FeatureSelector(_feature_names=['ORIGINE_LEAD',\n",
       "                                                                                 'SOURCE_LEAD',\n",
       "                                                                                 'NIVEAU_LEAD',\n",
       "                                                                                 'TAGS',\n",
       "                                                                                 'INDEX_ACTIVITE',\n",
       "                                                                                 'QUALITE_LEAD',\n",
       "                                                                                 'DERNIERE_ACTIVITE_NOTABLE'])),\n",
       "                                                ('cat_inputer1',\n",
       "                                                 SimpleImputer(strategy='most_frequent')),\n",
       "                                                ('cat_inputer2',\n",
       "                                                 SimpleImputer(missing_values='select',\n",
       "                                                               strateg...),\n",
       "                                                ('one_hot_encoder',\n",
       "                                                 OneHotEncoder())])),\n",
       "                               ('numerical_pipeline',\n",
       "                                Pipeline(steps=[('num_selector',\n",
       "                                                 FeatureSelector(_feature_names=['NB_VISITES',\n",
       "                                                                                 'SCORE_ACTIVITE',\n",
       "                                                                                 'NB_PAGES_VUES_PAR_VISITE',\n",
       "                                                                                 'SCORE_PROFIL',\n",
       "                                                                                 'DUREE_SUR_SITEWEB'])),\n",
       "                                                ('num_transformer',\n",
       "                                                 NumericalTransformer()),\n",
       "                                                ('num_inputer',\n",
       "                                                 SimpleImputer(strategy='median')),\n",
       "                                                ('std_scaler',\n",
       "                                                 StandardScaler())]))])>"
      ]
     },
     "metadata": {},
     "execution_count": 24
    }
   ],
   "source": [
    "categorical_pipeline = Pipeline( steps = [ \n",
    "            ( 'cat_selector', FeatureSelector(CAT_FEAT) ),\n",
    "            ( 'cat_inputer1', SimpleImputer(missing_values = np.nan,strategy='most_frequent') ),\n",
    "            ( 'cat_inputer2', SimpleImputer(missing_values = 'select',strategy='most_frequent') ),\n",
    "            ( 'one_hot_encoder', OneHotEncoder( sparse = True ) )\n",
    "    ])\n",
    "numerical_pipeline = Pipeline( steps = [ \n",
    "            ( 'num_selector', FeatureSelector(NUM_FEAT) ),\n",
    "            ( 'num_transformer', NumericalTransformer() ),\n",
    "            ( 'num_inputer', SimpleImputer(missing_values = np.nan,strategy='median') ),\n",
    "            ( 'std_scaler', StandardScaler() ) \n",
    "    ])\n",
    "\n",
    "full_pipeline = FeatureUnion( transformer_list = [ \n",
    "    ( 'categorical_pipeline', categorical_pipeline ),\n",
    "    ( 'numerical_pipeline', numerical_pipeline ) \n",
    "])\n",
    "\n",
    "full_pipeline.get_feature_names"
   ]
  },
  {
   "cell_type": "code",
   "execution_count": null,
   "metadata": {},
   "outputs": [],
   "source": [
    "full_pipeline.fit_transform(X_train, y_train)"
   ]
  },
  {
   "cell_type": "code",
   "execution_count": 25,
   "metadata": {},
   "outputs": [
    {
     "output_type": "error",
     "ename": "ValueError",
     "evalue": "Found unknown categories ['nc_edm'] in column 1 during transform",
     "traceback": [
      "\u001b[0;31m---------------------------------------------------------------------------\u001b[0m",
      "\u001b[0;31mValueError\u001b[0m                                Traceback (most recent call last)",
      "\u001b[0;32m<ipython-input-25-ee17b337c8ff>\u001b[0m in \u001b[0;36m<module>\u001b[0;34m\u001b[0m\n\u001b[1;32m      6\u001b[0m \u001b[0;34m\u001b[0m\u001b[0m\n\u001b[1;32m      7\u001b[0m \u001b[0mgrid\u001b[0m \u001b[0;34m=\u001b[0m \u001b[0mGridSearchCV\u001b[0m\u001b[0;34m(\u001b[0m\u001b[0mpipeline\u001b[0m\u001b[0;34m,\u001b[0m \u001b[0mparam_grid\u001b[0m\u001b[0;34m=\u001b[0m\u001b[0mparameters\u001b[0m\u001b[0;34m,\u001b[0m \u001b[0mcv\u001b[0m\u001b[0;34m=\u001b[0m\u001b[0;36m5\u001b[0m\u001b[0;34m)\u001b[0m\u001b[0;34m\u001b[0m\u001b[0;34m\u001b[0m\u001b[0m\n\u001b[0;32m----> 8\u001b[0;31m \u001b[0mgrid\u001b[0m\u001b[0;34m.\u001b[0m\u001b[0mfit\u001b[0m\u001b[0;34m(\u001b[0m\u001b[0mX_train\u001b[0m\u001b[0;34m,\u001b[0m \u001b[0my_train\u001b[0m\u001b[0;34m)\u001b[0m\u001b[0;34m\u001b[0m\u001b[0;34m\u001b[0m\u001b[0m\n\u001b[0m\u001b[1;32m      9\u001b[0m \u001b[0;34m\u001b[0m\u001b[0m\n\u001b[1;32m     10\u001b[0m \u001b[0mprint\u001b[0m\u001b[0;34m(\u001b[0m\u001b[0;34m\"score = %3.2f\"\u001b[0m \u001b[0;34m%\u001b[0m\u001b[0;34m(\u001b[0m\u001b[0mgrid\u001b[0m\u001b[0;34m.\u001b[0m\u001b[0mscore\u001b[0m\u001b[0;34m(\u001b[0m\u001b[0mX_test\u001b[0m\u001b[0;34m,\u001b[0m \u001b[0my_test\u001b[0m\u001b[0;34m)\u001b[0m\u001b[0;34m)\u001b[0m\u001b[0;34m)\u001b[0m\u001b[0;34m\u001b[0m\u001b[0;34m\u001b[0m\u001b[0m\n",
      "\u001b[0;32m~/project_python/lead-scoring-alessio-marieme/.venv/lib/python3.8/site-packages/sklearn/utils/validation.py\u001b[0m in \u001b[0;36minner_f\u001b[0;34m(*args, **kwargs)\u001b[0m\n\u001b[1;32m     70\u001b[0m                           FutureWarning)\n\u001b[1;32m     71\u001b[0m         \u001b[0mkwargs\u001b[0m\u001b[0;34m.\u001b[0m\u001b[0mupdate\u001b[0m\u001b[0;34m(\u001b[0m\u001b[0;34m{\u001b[0m\u001b[0mk\u001b[0m\u001b[0;34m:\u001b[0m \u001b[0marg\u001b[0m \u001b[0;32mfor\u001b[0m \u001b[0mk\u001b[0m\u001b[0;34m,\u001b[0m \u001b[0marg\u001b[0m \u001b[0;32min\u001b[0m \u001b[0mzip\u001b[0m\u001b[0;34m(\u001b[0m\u001b[0msig\u001b[0m\u001b[0;34m.\u001b[0m\u001b[0mparameters\u001b[0m\u001b[0;34m,\u001b[0m \u001b[0margs\u001b[0m\u001b[0;34m)\u001b[0m\u001b[0;34m}\u001b[0m\u001b[0;34m)\u001b[0m\u001b[0;34m\u001b[0m\u001b[0;34m\u001b[0m\u001b[0m\n\u001b[0;32m---> 72\u001b[0;31m         \u001b[0;32mreturn\u001b[0m \u001b[0mf\u001b[0m\u001b[0;34m(\u001b[0m\u001b[0;34m**\u001b[0m\u001b[0mkwargs\u001b[0m\u001b[0;34m)\u001b[0m\u001b[0;34m\u001b[0m\u001b[0;34m\u001b[0m\u001b[0m\n\u001b[0m\u001b[1;32m     73\u001b[0m     \u001b[0;32mreturn\u001b[0m \u001b[0minner_f\u001b[0m\u001b[0;34m\u001b[0m\u001b[0;34m\u001b[0m\u001b[0m\n\u001b[1;32m     74\u001b[0m \u001b[0;34m\u001b[0m\u001b[0m\n",
      "\u001b[0;32m~/project_python/lead-scoring-alessio-marieme/.venv/lib/python3.8/site-packages/sklearn/model_selection/_search.py\u001b[0m in \u001b[0;36mfit\u001b[0;34m(self, X, y, groups, **fit_params)\u001b[0m\n\u001b[1;32m    734\u001b[0m                 \u001b[0;32mreturn\u001b[0m \u001b[0mresults\u001b[0m\u001b[0;34m\u001b[0m\u001b[0;34m\u001b[0m\u001b[0m\n\u001b[1;32m    735\u001b[0m \u001b[0;34m\u001b[0m\u001b[0m\n\u001b[0;32m--> 736\u001b[0;31m             \u001b[0mself\u001b[0m\u001b[0;34m.\u001b[0m\u001b[0m_run_search\u001b[0m\u001b[0;34m(\u001b[0m\u001b[0mevaluate_candidates\u001b[0m\u001b[0;34m)\u001b[0m\u001b[0;34m\u001b[0m\u001b[0;34m\u001b[0m\u001b[0m\n\u001b[0m\u001b[1;32m    737\u001b[0m \u001b[0;34m\u001b[0m\u001b[0m\n\u001b[1;32m    738\u001b[0m         \u001b[0;31m# For multi-metric evaluation, store the best_index_, best_params_ and\u001b[0m\u001b[0;34m\u001b[0m\u001b[0;34m\u001b[0m\u001b[0;34m\u001b[0m\u001b[0m\n",
      "\u001b[0;32m~/project_python/lead-scoring-alessio-marieme/.venv/lib/python3.8/site-packages/sklearn/model_selection/_search.py\u001b[0m in \u001b[0;36m_run_search\u001b[0;34m(self, evaluate_candidates)\u001b[0m\n\u001b[1;32m   1186\u001b[0m     \u001b[0;32mdef\u001b[0m \u001b[0m_run_search\u001b[0m\u001b[0;34m(\u001b[0m\u001b[0mself\u001b[0m\u001b[0;34m,\u001b[0m \u001b[0mevaluate_candidates\u001b[0m\u001b[0;34m)\u001b[0m\u001b[0;34m:\u001b[0m\u001b[0;34m\u001b[0m\u001b[0;34m\u001b[0m\u001b[0m\n\u001b[1;32m   1187\u001b[0m         \u001b[0;34m\"\"\"Search all candidates in param_grid\"\"\"\u001b[0m\u001b[0;34m\u001b[0m\u001b[0;34m\u001b[0m\u001b[0m\n\u001b[0;32m-> 1188\u001b[0;31m         \u001b[0mevaluate_candidates\u001b[0m\u001b[0;34m(\u001b[0m\u001b[0mParameterGrid\u001b[0m\u001b[0;34m(\u001b[0m\u001b[0mself\u001b[0m\u001b[0;34m.\u001b[0m\u001b[0mparam_grid\u001b[0m\u001b[0;34m)\u001b[0m\u001b[0;34m)\u001b[0m\u001b[0;34m\u001b[0m\u001b[0;34m\u001b[0m\u001b[0m\n\u001b[0m\u001b[1;32m   1189\u001b[0m \u001b[0;34m\u001b[0m\u001b[0m\n\u001b[1;32m   1190\u001b[0m \u001b[0;34m\u001b[0m\u001b[0m\n",
      "\u001b[0;32m~/project_python/lead-scoring-alessio-marieme/.venv/lib/python3.8/site-packages/sklearn/model_selection/_search.py\u001b[0m in \u001b[0;36mevaluate_candidates\u001b[0;34m(candidate_params)\u001b[0m\n\u001b[1;32m    706\u001b[0m                               n_splits, n_candidates, n_candidates * n_splits))\n\u001b[1;32m    707\u001b[0m \u001b[0;34m\u001b[0m\u001b[0m\n\u001b[0;32m--> 708\u001b[0;31m                 out = parallel(delayed(_fit_and_score)(clone(base_estimator),\n\u001b[0m\u001b[1;32m    709\u001b[0m                                                        \u001b[0mX\u001b[0m\u001b[0;34m,\u001b[0m \u001b[0my\u001b[0m\u001b[0;34m,\u001b[0m\u001b[0;34m\u001b[0m\u001b[0;34m\u001b[0m\u001b[0m\n\u001b[1;32m    710\u001b[0m                                                        \u001b[0mtrain\u001b[0m\u001b[0;34m=\u001b[0m\u001b[0mtrain\u001b[0m\u001b[0;34m,\u001b[0m \u001b[0mtest\u001b[0m\u001b[0;34m=\u001b[0m\u001b[0mtest\u001b[0m\u001b[0;34m,\u001b[0m\u001b[0;34m\u001b[0m\u001b[0;34m\u001b[0m\u001b[0m\n",
      "\u001b[0;32m~/project_python/lead-scoring-alessio-marieme/.venv/lib/python3.8/site-packages/joblib/parallel.py\u001b[0m in \u001b[0;36m__call__\u001b[0;34m(self, iterable)\u001b[0m\n\u001b[1;32m   1046\u001b[0m             \u001b[0;31m# remaining jobs.\u001b[0m\u001b[0;34m\u001b[0m\u001b[0;34m\u001b[0m\u001b[0;34m\u001b[0m\u001b[0m\n\u001b[1;32m   1047\u001b[0m             \u001b[0mself\u001b[0m\u001b[0;34m.\u001b[0m\u001b[0m_iterating\u001b[0m \u001b[0;34m=\u001b[0m \u001b[0;32mFalse\u001b[0m\u001b[0;34m\u001b[0m\u001b[0;34m\u001b[0m\u001b[0m\n\u001b[0;32m-> 1048\u001b[0;31m             \u001b[0;32mif\u001b[0m \u001b[0mself\u001b[0m\u001b[0;34m.\u001b[0m\u001b[0mdispatch_one_batch\u001b[0m\u001b[0;34m(\u001b[0m\u001b[0miterator\u001b[0m\u001b[0;34m)\u001b[0m\u001b[0;34m:\u001b[0m\u001b[0;34m\u001b[0m\u001b[0;34m\u001b[0m\u001b[0m\n\u001b[0m\u001b[1;32m   1049\u001b[0m                 \u001b[0mself\u001b[0m\u001b[0;34m.\u001b[0m\u001b[0m_iterating\u001b[0m \u001b[0;34m=\u001b[0m \u001b[0mself\u001b[0m\u001b[0;34m.\u001b[0m\u001b[0m_original_iterator\u001b[0m \u001b[0;32mis\u001b[0m \u001b[0;32mnot\u001b[0m \u001b[0;32mNone\u001b[0m\u001b[0;34m\u001b[0m\u001b[0;34m\u001b[0m\u001b[0m\n\u001b[1;32m   1050\u001b[0m \u001b[0;34m\u001b[0m\u001b[0m\n",
      "\u001b[0;32m~/project_python/lead-scoring-alessio-marieme/.venv/lib/python3.8/site-packages/joblib/parallel.py\u001b[0m in \u001b[0;36mdispatch_one_batch\u001b[0;34m(self, iterator)\u001b[0m\n\u001b[1;32m    864\u001b[0m                 \u001b[0;32mreturn\u001b[0m \u001b[0;32mFalse\u001b[0m\u001b[0;34m\u001b[0m\u001b[0;34m\u001b[0m\u001b[0m\n\u001b[1;32m    865\u001b[0m             \u001b[0;32melse\u001b[0m\u001b[0;34m:\u001b[0m\u001b[0;34m\u001b[0m\u001b[0;34m\u001b[0m\u001b[0m\n\u001b[0;32m--> 866\u001b[0;31m                 \u001b[0mself\u001b[0m\u001b[0;34m.\u001b[0m\u001b[0m_dispatch\u001b[0m\u001b[0;34m(\u001b[0m\u001b[0mtasks\u001b[0m\u001b[0;34m)\u001b[0m\u001b[0;34m\u001b[0m\u001b[0;34m\u001b[0m\u001b[0m\n\u001b[0m\u001b[1;32m    867\u001b[0m                 \u001b[0;32mreturn\u001b[0m \u001b[0;32mTrue\u001b[0m\u001b[0;34m\u001b[0m\u001b[0;34m\u001b[0m\u001b[0m\n\u001b[1;32m    868\u001b[0m \u001b[0;34m\u001b[0m\u001b[0m\n",
      "\u001b[0;32m~/project_python/lead-scoring-alessio-marieme/.venv/lib/python3.8/site-packages/joblib/parallel.py\u001b[0m in \u001b[0;36m_dispatch\u001b[0;34m(self, batch)\u001b[0m\n\u001b[1;32m    782\u001b[0m         \u001b[0;32mwith\u001b[0m \u001b[0mself\u001b[0m\u001b[0;34m.\u001b[0m\u001b[0m_lock\u001b[0m\u001b[0;34m:\u001b[0m\u001b[0;34m\u001b[0m\u001b[0;34m\u001b[0m\u001b[0m\n\u001b[1;32m    783\u001b[0m             \u001b[0mjob_idx\u001b[0m \u001b[0;34m=\u001b[0m \u001b[0mlen\u001b[0m\u001b[0;34m(\u001b[0m\u001b[0mself\u001b[0m\u001b[0;34m.\u001b[0m\u001b[0m_jobs\u001b[0m\u001b[0;34m)\u001b[0m\u001b[0;34m\u001b[0m\u001b[0;34m\u001b[0m\u001b[0m\n\u001b[0;32m--> 784\u001b[0;31m             \u001b[0mjob\u001b[0m \u001b[0;34m=\u001b[0m \u001b[0mself\u001b[0m\u001b[0;34m.\u001b[0m\u001b[0m_backend\u001b[0m\u001b[0;34m.\u001b[0m\u001b[0mapply_async\u001b[0m\u001b[0;34m(\u001b[0m\u001b[0mbatch\u001b[0m\u001b[0;34m,\u001b[0m \u001b[0mcallback\u001b[0m\u001b[0;34m=\u001b[0m\u001b[0mcb\u001b[0m\u001b[0;34m)\u001b[0m\u001b[0;34m\u001b[0m\u001b[0;34m\u001b[0m\u001b[0m\n\u001b[0m\u001b[1;32m    785\u001b[0m             \u001b[0;31m# A job can complete so quickly than its callback is\u001b[0m\u001b[0;34m\u001b[0m\u001b[0;34m\u001b[0m\u001b[0;34m\u001b[0m\u001b[0m\n\u001b[1;32m    786\u001b[0m             \u001b[0;31m# called before we get here, causing self._jobs to\u001b[0m\u001b[0;34m\u001b[0m\u001b[0;34m\u001b[0m\u001b[0;34m\u001b[0m\u001b[0m\n",
      "\u001b[0;32m~/project_python/lead-scoring-alessio-marieme/.venv/lib/python3.8/site-packages/joblib/_parallel_backends.py\u001b[0m in \u001b[0;36mapply_async\u001b[0;34m(self, func, callback)\u001b[0m\n\u001b[1;32m    206\u001b[0m     \u001b[0;32mdef\u001b[0m \u001b[0mapply_async\u001b[0m\u001b[0;34m(\u001b[0m\u001b[0mself\u001b[0m\u001b[0;34m,\u001b[0m \u001b[0mfunc\u001b[0m\u001b[0;34m,\u001b[0m \u001b[0mcallback\u001b[0m\u001b[0;34m=\u001b[0m\u001b[0;32mNone\u001b[0m\u001b[0;34m)\u001b[0m\u001b[0;34m:\u001b[0m\u001b[0;34m\u001b[0m\u001b[0;34m\u001b[0m\u001b[0m\n\u001b[1;32m    207\u001b[0m         \u001b[0;34m\"\"\"Schedule a func to be run\"\"\"\u001b[0m\u001b[0;34m\u001b[0m\u001b[0;34m\u001b[0m\u001b[0m\n\u001b[0;32m--> 208\u001b[0;31m         \u001b[0mresult\u001b[0m \u001b[0;34m=\u001b[0m \u001b[0mImmediateResult\u001b[0m\u001b[0;34m(\u001b[0m\u001b[0mfunc\u001b[0m\u001b[0;34m)\u001b[0m\u001b[0;34m\u001b[0m\u001b[0;34m\u001b[0m\u001b[0m\n\u001b[0m\u001b[1;32m    209\u001b[0m         \u001b[0;32mif\u001b[0m \u001b[0mcallback\u001b[0m\u001b[0;34m:\u001b[0m\u001b[0;34m\u001b[0m\u001b[0;34m\u001b[0m\u001b[0m\n\u001b[1;32m    210\u001b[0m             \u001b[0mcallback\u001b[0m\u001b[0;34m(\u001b[0m\u001b[0mresult\u001b[0m\u001b[0;34m)\u001b[0m\u001b[0;34m\u001b[0m\u001b[0;34m\u001b[0m\u001b[0m\n",
      "\u001b[0;32m~/project_python/lead-scoring-alessio-marieme/.venv/lib/python3.8/site-packages/joblib/_parallel_backends.py\u001b[0m in \u001b[0;36m__init__\u001b[0;34m(self, batch)\u001b[0m\n\u001b[1;32m    570\u001b[0m         \u001b[0;31m# Don't delay the application, to avoid keeping the input\u001b[0m\u001b[0;34m\u001b[0m\u001b[0;34m\u001b[0m\u001b[0;34m\u001b[0m\u001b[0m\n\u001b[1;32m    571\u001b[0m         \u001b[0;31m# arguments in memory\u001b[0m\u001b[0;34m\u001b[0m\u001b[0;34m\u001b[0m\u001b[0;34m\u001b[0m\u001b[0m\n\u001b[0;32m--> 572\u001b[0;31m         \u001b[0mself\u001b[0m\u001b[0;34m.\u001b[0m\u001b[0mresults\u001b[0m \u001b[0;34m=\u001b[0m \u001b[0mbatch\u001b[0m\u001b[0;34m(\u001b[0m\u001b[0;34m)\u001b[0m\u001b[0;34m\u001b[0m\u001b[0;34m\u001b[0m\u001b[0m\n\u001b[0m\u001b[1;32m    573\u001b[0m \u001b[0;34m\u001b[0m\u001b[0m\n\u001b[1;32m    574\u001b[0m     \u001b[0;32mdef\u001b[0m \u001b[0mget\u001b[0m\u001b[0;34m(\u001b[0m\u001b[0mself\u001b[0m\u001b[0;34m)\u001b[0m\u001b[0;34m:\u001b[0m\u001b[0;34m\u001b[0m\u001b[0;34m\u001b[0m\u001b[0m\n",
      "\u001b[0;32m~/project_python/lead-scoring-alessio-marieme/.venv/lib/python3.8/site-packages/joblib/parallel.py\u001b[0m in \u001b[0;36m__call__\u001b[0;34m(self)\u001b[0m\n\u001b[1;32m    260\u001b[0m         \u001b[0;31m# change the default number of processes to -1\u001b[0m\u001b[0;34m\u001b[0m\u001b[0;34m\u001b[0m\u001b[0;34m\u001b[0m\u001b[0m\n\u001b[1;32m    261\u001b[0m         \u001b[0;32mwith\u001b[0m \u001b[0mparallel_backend\u001b[0m\u001b[0;34m(\u001b[0m\u001b[0mself\u001b[0m\u001b[0;34m.\u001b[0m\u001b[0m_backend\u001b[0m\u001b[0;34m,\u001b[0m \u001b[0mn_jobs\u001b[0m\u001b[0;34m=\u001b[0m\u001b[0mself\u001b[0m\u001b[0;34m.\u001b[0m\u001b[0m_n_jobs\u001b[0m\u001b[0;34m)\u001b[0m\u001b[0;34m:\u001b[0m\u001b[0;34m\u001b[0m\u001b[0;34m\u001b[0m\u001b[0m\n\u001b[0;32m--> 262\u001b[0;31m             return [func(*args, **kwargs)\n\u001b[0m\u001b[1;32m    263\u001b[0m                     for func, args, kwargs in self.items]\n\u001b[1;32m    264\u001b[0m \u001b[0;34m\u001b[0m\u001b[0m\n",
      "\u001b[0;32m~/project_python/lead-scoring-alessio-marieme/.venv/lib/python3.8/site-packages/joblib/parallel.py\u001b[0m in \u001b[0;36m<listcomp>\u001b[0;34m(.0)\u001b[0m\n\u001b[1;32m    260\u001b[0m         \u001b[0;31m# change the default number of processes to -1\u001b[0m\u001b[0;34m\u001b[0m\u001b[0;34m\u001b[0m\u001b[0;34m\u001b[0m\u001b[0m\n\u001b[1;32m    261\u001b[0m         \u001b[0;32mwith\u001b[0m \u001b[0mparallel_backend\u001b[0m\u001b[0;34m(\u001b[0m\u001b[0mself\u001b[0m\u001b[0;34m.\u001b[0m\u001b[0m_backend\u001b[0m\u001b[0;34m,\u001b[0m \u001b[0mn_jobs\u001b[0m\u001b[0;34m=\u001b[0m\u001b[0mself\u001b[0m\u001b[0;34m.\u001b[0m\u001b[0m_n_jobs\u001b[0m\u001b[0;34m)\u001b[0m\u001b[0;34m:\u001b[0m\u001b[0;34m\u001b[0m\u001b[0;34m\u001b[0m\u001b[0m\n\u001b[0;32m--> 262\u001b[0;31m             return [func(*args, **kwargs)\n\u001b[0m\u001b[1;32m    263\u001b[0m                     for func, args, kwargs in self.items]\n\u001b[1;32m    264\u001b[0m \u001b[0;34m\u001b[0m\u001b[0m\n",
      "\u001b[0;32m~/project_python/lead-scoring-alessio-marieme/.venv/lib/python3.8/site-packages/sklearn/model_selection/_validation.py\u001b[0m in \u001b[0;36m_fit_and_score\u001b[0;34m(estimator, X, y, scorer, train, test, verbose, parameters, fit_params, return_train_score, return_parameters, return_n_test_samples, return_times, return_estimator, error_score)\u001b[0m\n\u001b[1;32m    558\u001b[0m     \u001b[0;32melse\u001b[0m\u001b[0;34m:\u001b[0m\u001b[0;34m\u001b[0m\u001b[0;34m\u001b[0m\u001b[0m\n\u001b[1;32m    559\u001b[0m         \u001b[0mfit_time\u001b[0m \u001b[0;34m=\u001b[0m \u001b[0mtime\u001b[0m\u001b[0;34m.\u001b[0m\u001b[0mtime\u001b[0m\u001b[0;34m(\u001b[0m\u001b[0;34m)\u001b[0m \u001b[0;34m-\u001b[0m \u001b[0mstart_time\u001b[0m\u001b[0;34m\u001b[0m\u001b[0;34m\u001b[0m\u001b[0m\n\u001b[0;32m--> 560\u001b[0;31m         \u001b[0mtest_scores\u001b[0m \u001b[0;34m=\u001b[0m \u001b[0m_score\u001b[0m\u001b[0;34m(\u001b[0m\u001b[0mestimator\u001b[0m\u001b[0;34m,\u001b[0m \u001b[0mX_test\u001b[0m\u001b[0;34m,\u001b[0m \u001b[0my_test\u001b[0m\u001b[0;34m,\u001b[0m \u001b[0mscorer\u001b[0m\u001b[0;34m)\u001b[0m\u001b[0;34m\u001b[0m\u001b[0;34m\u001b[0m\u001b[0m\n\u001b[0m\u001b[1;32m    561\u001b[0m         \u001b[0mscore_time\u001b[0m \u001b[0;34m=\u001b[0m \u001b[0mtime\u001b[0m\u001b[0;34m.\u001b[0m\u001b[0mtime\u001b[0m\u001b[0;34m(\u001b[0m\u001b[0;34m)\u001b[0m \u001b[0;34m-\u001b[0m \u001b[0mstart_time\u001b[0m \u001b[0;34m-\u001b[0m \u001b[0mfit_time\u001b[0m\u001b[0;34m\u001b[0m\u001b[0;34m\u001b[0m\u001b[0m\n\u001b[1;32m    562\u001b[0m         \u001b[0;32mif\u001b[0m \u001b[0mreturn_train_score\u001b[0m\u001b[0;34m:\u001b[0m\u001b[0;34m\u001b[0m\u001b[0;34m\u001b[0m\u001b[0m\n",
      "\u001b[0;32m~/project_python/lead-scoring-alessio-marieme/.venv/lib/python3.8/site-packages/sklearn/model_selection/_validation.py\u001b[0m in \u001b[0;36m_score\u001b[0;34m(estimator, X_test, y_test, scorer)\u001b[0m\n\u001b[1;32m    605\u001b[0m         \u001b[0mscores\u001b[0m \u001b[0;34m=\u001b[0m \u001b[0mscorer\u001b[0m\u001b[0;34m(\u001b[0m\u001b[0mestimator\u001b[0m\u001b[0;34m,\u001b[0m \u001b[0mX_test\u001b[0m\u001b[0;34m)\u001b[0m\u001b[0;34m\u001b[0m\u001b[0;34m\u001b[0m\u001b[0m\n\u001b[1;32m    606\u001b[0m     \u001b[0;32melse\u001b[0m\u001b[0;34m:\u001b[0m\u001b[0;34m\u001b[0m\u001b[0;34m\u001b[0m\u001b[0m\n\u001b[0;32m--> 607\u001b[0;31m         \u001b[0mscores\u001b[0m \u001b[0;34m=\u001b[0m \u001b[0mscorer\u001b[0m\u001b[0;34m(\u001b[0m\u001b[0mestimator\u001b[0m\u001b[0;34m,\u001b[0m \u001b[0mX_test\u001b[0m\u001b[0;34m,\u001b[0m \u001b[0my_test\u001b[0m\u001b[0;34m)\u001b[0m\u001b[0;34m\u001b[0m\u001b[0;34m\u001b[0m\u001b[0m\n\u001b[0m\u001b[1;32m    608\u001b[0m \u001b[0;34m\u001b[0m\u001b[0m\n\u001b[1;32m    609\u001b[0m     error_msg = (\"scoring must return a number, got %s (%s) \"\n",
      "\u001b[0;32m~/project_python/lead-scoring-alessio-marieme/.venv/lib/python3.8/site-packages/sklearn/metrics/_scorer.py\u001b[0m in \u001b[0;36m__call__\u001b[0;34m(self, estimator, *args, **kwargs)\u001b[0m\n\u001b[1;32m     88\u001b[0m                                       *args, **kwargs)\n\u001b[1;32m     89\u001b[0m             \u001b[0;32melse\u001b[0m\u001b[0;34m:\u001b[0m\u001b[0;34m\u001b[0m\u001b[0;34m\u001b[0m\u001b[0m\n\u001b[0;32m---> 90\u001b[0;31m                 \u001b[0mscore\u001b[0m \u001b[0;34m=\u001b[0m \u001b[0mscorer\u001b[0m\u001b[0;34m(\u001b[0m\u001b[0mestimator\u001b[0m\u001b[0;34m,\u001b[0m \u001b[0;34m*\u001b[0m\u001b[0margs\u001b[0m\u001b[0;34m,\u001b[0m \u001b[0;34m**\u001b[0m\u001b[0mkwargs\u001b[0m\u001b[0;34m)\u001b[0m\u001b[0;34m\u001b[0m\u001b[0;34m\u001b[0m\u001b[0m\n\u001b[0m\u001b[1;32m     91\u001b[0m             \u001b[0mscores\u001b[0m\u001b[0;34m[\u001b[0m\u001b[0mname\u001b[0m\u001b[0;34m]\u001b[0m \u001b[0;34m=\u001b[0m \u001b[0mscore\u001b[0m\u001b[0;34m\u001b[0m\u001b[0;34m\u001b[0m\u001b[0m\n\u001b[1;32m     92\u001b[0m         \u001b[0;32mreturn\u001b[0m \u001b[0mscores\u001b[0m\u001b[0;34m\u001b[0m\u001b[0;34m\u001b[0m\u001b[0m\n",
      "\u001b[0;32m~/project_python/lead-scoring-alessio-marieme/.venv/lib/python3.8/site-packages/sklearn/metrics/_scorer.py\u001b[0m in \u001b[0;36m_passthrough_scorer\u001b[0;34m(estimator, *args, **kwargs)\u001b[0m\n\u001b[1;32m    370\u001b[0m \u001b[0;32mdef\u001b[0m \u001b[0m_passthrough_scorer\u001b[0m\u001b[0;34m(\u001b[0m\u001b[0mestimator\u001b[0m\u001b[0;34m,\u001b[0m \u001b[0;34m*\u001b[0m\u001b[0margs\u001b[0m\u001b[0;34m,\u001b[0m \u001b[0;34m**\u001b[0m\u001b[0mkwargs\u001b[0m\u001b[0;34m)\u001b[0m\u001b[0;34m:\u001b[0m\u001b[0;34m\u001b[0m\u001b[0;34m\u001b[0m\u001b[0m\n\u001b[1;32m    371\u001b[0m     \u001b[0;34m\"\"\"Function that wraps estimator.score\"\"\"\u001b[0m\u001b[0;34m\u001b[0m\u001b[0;34m\u001b[0m\u001b[0m\n\u001b[0;32m--> 372\u001b[0;31m     \u001b[0;32mreturn\u001b[0m \u001b[0mestimator\u001b[0m\u001b[0;34m.\u001b[0m\u001b[0mscore\u001b[0m\u001b[0;34m(\u001b[0m\u001b[0;34m*\u001b[0m\u001b[0margs\u001b[0m\u001b[0;34m,\u001b[0m \u001b[0;34m**\u001b[0m\u001b[0mkwargs\u001b[0m\u001b[0;34m)\u001b[0m\u001b[0;34m\u001b[0m\u001b[0;34m\u001b[0m\u001b[0m\n\u001b[0m\u001b[1;32m    373\u001b[0m \u001b[0;34m\u001b[0m\u001b[0m\n\u001b[1;32m    374\u001b[0m \u001b[0;34m\u001b[0m\u001b[0m\n",
      "\u001b[0;32m~/project_python/lead-scoring-alessio-marieme/.venv/lib/python3.8/site-packages/sklearn/utils/metaestimators.py\u001b[0m in \u001b[0;36m<lambda>\u001b[0;34m(*args, **kwargs)\u001b[0m\n\u001b[1;32m    117\u001b[0m \u001b[0;34m\u001b[0m\u001b[0m\n\u001b[1;32m    118\u001b[0m         \u001b[0;31m# lambda, but not partial, allows help() to work with update_wrapper\u001b[0m\u001b[0;34m\u001b[0m\u001b[0;34m\u001b[0m\u001b[0;34m\u001b[0m\u001b[0m\n\u001b[0;32m--> 119\u001b[0;31m         \u001b[0mout\u001b[0m \u001b[0;34m=\u001b[0m \u001b[0;32mlambda\u001b[0m \u001b[0;34m*\u001b[0m\u001b[0margs\u001b[0m\u001b[0;34m,\u001b[0m \u001b[0;34m**\u001b[0m\u001b[0mkwargs\u001b[0m\u001b[0;34m:\u001b[0m \u001b[0mself\u001b[0m\u001b[0;34m.\u001b[0m\u001b[0mfn\u001b[0m\u001b[0;34m(\u001b[0m\u001b[0mobj\u001b[0m\u001b[0;34m,\u001b[0m \u001b[0;34m*\u001b[0m\u001b[0margs\u001b[0m\u001b[0;34m,\u001b[0m \u001b[0;34m**\u001b[0m\u001b[0mkwargs\u001b[0m\u001b[0;34m)\u001b[0m\u001b[0;34m\u001b[0m\u001b[0;34m\u001b[0m\u001b[0m\n\u001b[0m\u001b[1;32m    120\u001b[0m         \u001b[0;31m# update the docstring of the returned function\u001b[0m\u001b[0;34m\u001b[0m\u001b[0;34m\u001b[0m\u001b[0;34m\u001b[0m\u001b[0m\n\u001b[1;32m    121\u001b[0m         \u001b[0mupdate_wrapper\u001b[0m\u001b[0;34m(\u001b[0m\u001b[0mout\u001b[0m\u001b[0;34m,\u001b[0m \u001b[0mself\u001b[0m\u001b[0;34m.\u001b[0m\u001b[0mfn\u001b[0m\u001b[0;34m)\u001b[0m\u001b[0;34m\u001b[0m\u001b[0;34m\u001b[0m\u001b[0m\n",
      "\u001b[0;32m~/project_python/lead-scoring-alessio-marieme/.venv/lib/python3.8/site-packages/sklearn/pipeline.py\u001b[0m in \u001b[0;36mscore\u001b[0;34m(self, X, y, sample_weight)\u001b[0m\n\u001b[1;32m    605\u001b[0m         \u001b[0mXt\u001b[0m \u001b[0;34m=\u001b[0m \u001b[0mX\u001b[0m\u001b[0;34m\u001b[0m\u001b[0;34m\u001b[0m\u001b[0m\n\u001b[1;32m    606\u001b[0m         \u001b[0;32mfor\u001b[0m \u001b[0m_\u001b[0m\u001b[0;34m,\u001b[0m \u001b[0mname\u001b[0m\u001b[0;34m,\u001b[0m \u001b[0mtransform\u001b[0m \u001b[0;32min\u001b[0m \u001b[0mself\u001b[0m\u001b[0;34m.\u001b[0m\u001b[0m_iter\u001b[0m\u001b[0;34m(\u001b[0m\u001b[0mwith_final\u001b[0m\u001b[0;34m=\u001b[0m\u001b[0;32mFalse\u001b[0m\u001b[0;34m)\u001b[0m\u001b[0;34m:\u001b[0m\u001b[0;34m\u001b[0m\u001b[0;34m\u001b[0m\u001b[0m\n\u001b[0;32m--> 607\u001b[0;31m             \u001b[0mXt\u001b[0m \u001b[0;34m=\u001b[0m \u001b[0mtransform\u001b[0m\u001b[0;34m.\u001b[0m\u001b[0mtransform\u001b[0m\u001b[0;34m(\u001b[0m\u001b[0mXt\u001b[0m\u001b[0;34m)\u001b[0m\u001b[0;34m\u001b[0m\u001b[0;34m\u001b[0m\u001b[0m\n\u001b[0m\u001b[1;32m    608\u001b[0m         \u001b[0mscore_params\u001b[0m \u001b[0;34m=\u001b[0m \u001b[0;34m{\u001b[0m\u001b[0;34m}\u001b[0m\u001b[0;34m\u001b[0m\u001b[0;34m\u001b[0m\u001b[0m\n\u001b[1;32m    609\u001b[0m         \u001b[0;32mif\u001b[0m \u001b[0msample_weight\u001b[0m \u001b[0;32mis\u001b[0m \u001b[0;32mnot\u001b[0m \u001b[0;32mNone\u001b[0m\u001b[0;34m:\u001b[0m\u001b[0;34m\u001b[0m\u001b[0;34m\u001b[0m\u001b[0m\n",
      "\u001b[0;32m~/project_python/lead-scoring-alessio-marieme/.venv/lib/python3.8/site-packages/sklearn/pipeline.py\u001b[0m in \u001b[0;36mtransform\u001b[0;34m(self, X)\u001b[0m\n\u001b[1;32m   1006\u001b[0m                               FutureWarning)\n\u001b[1;32m   1007\u001b[0m                 \u001b[0;32mcontinue\u001b[0m\u001b[0;34m\u001b[0m\u001b[0;34m\u001b[0m\u001b[0m\n\u001b[0;32m-> 1008\u001b[0;31m         Xs = Parallel(n_jobs=self.n_jobs)(\n\u001b[0m\u001b[1;32m   1009\u001b[0m             \u001b[0mdelayed\u001b[0m\u001b[0;34m(\u001b[0m\u001b[0m_transform_one\u001b[0m\u001b[0;34m)\u001b[0m\u001b[0;34m(\u001b[0m\u001b[0mtrans\u001b[0m\u001b[0;34m,\u001b[0m \u001b[0mX\u001b[0m\u001b[0;34m,\u001b[0m \u001b[0;32mNone\u001b[0m\u001b[0;34m,\u001b[0m \u001b[0mweight\u001b[0m\u001b[0;34m)\u001b[0m\u001b[0;34m\u001b[0m\u001b[0;34m\u001b[0m\u001b[0m\n\u001b[1;32m   1010\u001b[0m             for name, trans, weight in self._iter())\n",
      "\u001b[0;32m~/project_python/lead-scoring-alessio-marieme/.venv/lib/python3.8/site-packages/joblib/parallel.py\u001b[0m in \u001b[0;36m__call__\u001b[0;34m(self, iterable)\u001b[0m\n\u001b[1;32m   1046\u001b[0m             \u001b[0;31m# remaining jobs.\u001b[0m\u001b[0;34m\u001b[0m\u001b[0;34m\u001b[0m\u001b[0;34m\u001b[0m\u001b[0m\n\u001b[1;32m   1047\u001b[0m             \u001b[0mself\u001b[0m\u001b[0;34m.\u001b[0m\u001b[0m_iterating\u001b[0m \u001b[0;34m=\u001b[0m \u001b[0;32mFalse\u001b[0m\u001b[0;34m\u001b[0m\u001b[0;34m\u001b[0m\u001b[0m\n\u001b[0;32m-> 1048\u001b[0;31m             \u001b[0;32mif\u001b[0m \u001b[0mself\u001b[0m\u001b[0;34m.\u001b[0m\u001b[0mdispatch_one_batch\u001b[0m\u001b[0;34m(\u001b[0m\u001b[0miterator\u001b[0m\u001b[0;34m)\u001b[0m\u001b[0;34m:\u001b[0m\u001b[0;34m\u001b[0m\u001b[0;34m\u001b[0m\u001b[0m\n\u001b[0m\u001b[1;32m   1049\u001b[0m                 \u001b[0mself\u001b[0m\u001b[0;34m.\u001b[0m\u001b[0m_iterating\u001b[0m \u001b[0;34m=\u001b[0m \u001b[0mself\u001b[0m\u001b[0;34m.\u001b[0m\u001b[0m_original_iterator\u001b[0m \u001b[0;32mis\u001b[0m \u001b[0;32mnot\u001b[0m \u001b[0;32mNone\u001b[0m\u001b[0;34m\u001b[0m\u001b[0;34m\u001b[0m\u001b[0m\n\u001b[1;32m   1050\u001b[0m \u001b[0;34m\u001b[0m\u001b[0m\n",
      "\u001b[0;32m~/project_python/lead-scoring-alessio-marieme/.venv/lib/python3.8/site-packages/joblib/parallel.py\u001b[0m in \u001b[0;36mdispatch_one_batch\u001b[0;34m(self, iterator)\u001b[0m\n\u001b[1;32m    864\u001b[0m                 \u001b[0;32mreturn\u001b[0m \u001b[0;32mFalse\u001b[0m\u001b[0;34m\u001b[0m\u001b[0;34m\u001b[0m\u001b[0m\n\u001b[1;32m    865\u001b[0m             \u001b[0;32melse\u001b[0m\u001b[0;34m:\u001b[0m\u001b[0;34m\u001b[0m\u001b[0;34m\u001b[0m\u001b[0m\n\u001b[0;32m--> 866\u001b[0;31m                 \u001b[0mself\u001b[0m\u001b[0;34m.\u001b[0m\u001b[0m_dispatch\u001b[0m\u001b[0;34m(\u001b[0m\u001b[0mtasks\u001b[0m\u001b[0;34m)\u001b[0m\u001b[0;34m\u001b[0m\u001b[0;34m\u001b[0m\u001b[0m\n\u001b[0m\u001b[1;32m    867\u001b[0m                 \u001b[0;32mreturn\u001b[0m \u001b[0;32mTrue\u001b[0m\u001b[0;34m\u001b[0m\u001b[0;34m\u001b[0m\u001b[0m\n\u001b[1;32m    868\u001b[0m \u001b[0;34m\u001b[0m\u001b[0m\n",
      "\u001b[0;32m~/project_python/lead-scoring-alessio-marieme/.venv/lib/python3.8/site-packages/joblib/parallel.py\u001b[0m in \u001b[0;36m_dispatch\u001b[0;34m(self, batch)\u001b[0m\n\u001b[1;32m    782\u001b[0m         \u001b[0;32mwith\u001b[0m \u001b[0mself\u001b[0m\u001b[0;34m.\u001b[0m\u001b[0m_lock\u001b[0m\u001b[0;34m:\u001b[0m\u001b[0;34m\u001b[0m\u001b[0;34m\u001b[0m\u001b[0m\n\u001b[1;32m    783\u001b[0m             \u001b[0mjob_idx\u001b[0m \u001b[0;34m=\u001b[0m \u001b[0mlen\u001b[0m\u001b[0;34m(\u001b[0m\u001b[0mself\u001b[0m\u001b[0;34m.\u001b[0m\u001b[0m_jobs\u001b[0m\u001b[0;34m)\u001b[0m\u001b[0;34m\u001b[0m\u001b[0;34m\u001b[0m\u001b[0m\n\u001b[0;32m--> 784\u001b[0;31m             \u001b[0mjob\u001b[0m \u001b[0;34m=\u001b[0m \u001b[0mself\u001b[0m\u001b[0;34m.\u001b[0m\u001b[0m_backend\u001b[0m\u001b[0;34m.\u001b[0m\u001b[0mapply_async\u001b[0m\u001b[0;34m(\u001b[0m\u001b[0mbatch\u001b[0m\u001b[0;34m,\u001b[0m \u001b[0mcallback\u001b[0m\u001b[0;34m=\u001b[0m\u001b[0mcb\u001b[0m\u001b[0;34m)\u001b[0m\u001b[0;34m\u001b[0m\u001b[0;34m\u001b[0m\u001b[0m\n\u001b[0m\u001b[1;32m    785\u001b[0m             \u001b[0;31m# A job can complete so quickly than its callback is\u001b[0m\u001b[0;34m\u001b[0m\u001b[0;34m\u001b[0m\u001b[0;34m\u001b[0m\u001b[0m\n\u001b[1;32m    786\u001b[0m             \u001b[0;31m# called before we get here, causing self._jobs to\u001b[0m\u001b[0;34m\u001b[0m\u001b[0;34m\u001b[0m\u001b[0;34m\u001b[0m\u001b[0m\n",
      "\u001b[0;32m~/project_python/lead-scoring-alessio-marieme/.venv/lib/python3.8/site-packages/joblib/_parallel_backends.py\u001b[0m in \u001b[0;36mapply_async\u001b[0;34m(self, func, callback)\u001b[0m\n\u001b[1;32m    206\u001b[0m     \u001b[0;32mdef\u001b[0m \u001b[0mapply_async\u001b[0m\u001b[0;34m(\u001b[0m\u001b[0mself\u001b[0m\u001b[0;34m,\u001b[0m \u001b[0mfunc\u001b[0m\u001b[0;34m,\u001b[0m \u001b[0mcallback\u001b[0m\u001b[0;34m=\u001b[0m\u001b[0;32mNone\u001b[0m\u001b[0;34m)\u001b[0m\u001b[0;34m:\u001b[0m\u001b[0;34m\u001b[0m\u001b[0;34m\u001b[0m\u001b[0m\n\u001b[1;32m    207\u001b[0m         \u001b[0;34m\"\"\"Schedule a func to be run\"\"\"\u001b[0m\u001b[0;34m\u001b[0m\u001b[0;34m\u001b[0m\u001b[0m\n\u001b[0;32m--> 208\u001b[0;31m         \u001b[0mresult\u001b[0m \u001b[0;34m=\u001b[0m \u001b[0mImmediateResult\u001b[0m\u001b[0;34m(\u001b[0m\u001b[0mfunc\u001b[0m\u001b[0;34m)\u001b[0m\u001b[0;34m\u001b[0m\u001b[0;34m\u001b[0m\u001b[0m\n\u001b[0m\u001b[1;32m    209\u001b[0m         \u001b[0;32mif\u001b[0m \u001b[0mcallback\u001b[0m\u001b[0;34m:\u001b[0m\u001b[0;34m\u001b[0m\u001b[0;34m\u001b[0m\u001b[0m\n\u001b[1;32m    210\u001b[0m             \u001b[0mcallback\u001b[0m\u001b[0;34m(\u001b[0m\u001b[0mresult\u001b[0m\u001b[0;34m)\u001b[0m\u001b[0;34m\u001b[0m\u001b[0;34m\u001b[0m\u001b[0m\n",
      "\u001b[0;32m~/project_python/lead-scoring-alessio-marieme/.venv/lib/python3.8/site-packages/joblib/_parallel_backends.py\u001b[0m in \u001b[0;36m__init__\u001b[0;34m(self, batch)\u001b[0m\n\u001b[1;32m    570\u001b[0m         \u001b[0;31m# Don't delay the application, to avoid keeping the input\u001b[0m\u001b[0;34m\u001b[0m\u001b[0;34m\u001b[0m\u001b[0;34m\u001b[0m\u001b[0m\n\u001b[1;32m    571\u001b[0m         \u001b[0;31m# arguments in memory\u001b[0m\u001b[0;34m\u001b[0m\u001b[0;34m\u001b[0m\u001b[0;34m\u001b[0m\u001b[0m\n\u001b[0;32m--> 572\u001b[0;31m         \u001b[0mself\u001b[0m\u001b[0;34m.\u001b[0m\u001b[0mresults\u001b[0m \u001b[0;34m=\u001b[0m \u001b[0mbatch\u001b[0m\u001b[0;34m(\u001b[0m\u001b[0;34m)\u001b[0m\u001b[0;34m\u001b[0m\u001b[0;34m\u001b[0m\u001b[0m\n\u001b[0m\u001b[1;32m    573\u001b[0m \u001b[0;34m\u001b[0m\u001b[0m\n\u001b[1;32m    574\u001b[0m     \u001b[0;32mdef\u001b[0m \u001b[0mget\u001b[0m\u001b[0;34m(\u001b[0m\u001b[0mself\u001b[0m\u001b[0;34m)\u001b[0m\u001b[0;34m:\u001b[0m\u001b[0;34m\u001b[0m\u001b[0;34m\u001b[0m\u001b[0m\n",
      "\u001b[0;32m~/project_python/lead-scoring-alessio-marieme/.venv/lib/python3.8/site-packages/joblib/parallel.py\u001b[0m in \u001b[0;36m__call__\u001b[0;34m(self)\u001b[0m\n\u001b[1;32m    260\u001b[0m         \u001b[0;31m# change the default number of processes to -1\u001b[0m\u001b[0;34m\u001b[0m\u001b[0;34m\u001b[0m\u001b[0;34m\u001b[0m\u001b[0m\n\u001b[1;32m    261\u001b[0m         \u001b[0;32mwith\u001b[0m \u001b[0mparallel_backend\u001b[0m\u001b[0;34m(\u001b[0m\u001b[0mself\u001b[0m\u001b[0;34m.\u001b[0m\u001b[0m_backend\u001b[0m\u001b[0;34m,\u001b[0m \u001b[0mn_jobs\u001b[0m\u001b[0;34m=\u001b[0m\u001b[0mself\u001b[0m\u001b[0;34m.\u001b[0m\u001b[0m_n_jobs\u001b[0m\u001b[0;34m)\u001b[0m\u001b[0;34m:\u001b[0m\u001b[0;34m\u001b[0m\u001b[0;34m\u001b[0m\u001b[0m\n\u001b[0;32m--> 262\u001b[0;31m             return [func(*args, **kwargs)\n\u001b[0m\u001b[1;32m    263\u001b[0m                     for func, args, kwargs in self.items]\n\u001b[1;32m    264\u001b[0m \u001b[0;34m\u001b[0m\u001b[0m\n",
      "\u001b[0;32m~/project_python/lead-scoring-alessio-marieme/.venv/lib/python3.8/site-packages/joblib/parallel.py\u001b[0m in \u001b[0;36m<listcomp>\u001b[0;34m(.0)\u001b[0m\n\u001b[1;32m    260\u001b[0m         \u001b[0;31m# change the default number of processes to -1\u001b[0m\u001b[0;34m\u001b[0m\u001b[0;34m\u001b[0m\u001b[0;34m\u001b[0m\u001b[0m\n\u001b[1;32m    261\u001b[0m         \u001b[0;32mwith\u001b[0m \u001b[0mparallel_backend\u001b[0m\u001b[0;34m(\u001b[0m\u001b[0mself\u001b[0m\u001b[0;34m.\u001b[0m\u001b[0m_backend\u001b[0m\u001b[0;34m,\u001b[0m \u001b[0mn_jobs\u001b[0m\u001b[0;34m=\u001b[0m\u001b[0mself\u001b[0m\u001b[0;34m.\u001b[0m\u001b[0m_n_jobs\u001b[0m\u001b[0;34m)\u001b[0m\u001b[0;34m:\u001b[0m\u001b[0;34m\u001b[0m\u001b[0;34m\u001b[0m\u001b[0m\n\u001b[0;32m--> 262\u001b[0;31m             return [func(*args, **kwargs)\n\u001b[0m\u001b[1;32m    263\u001b[0m                     for func, args, kwargs in self.items]\n\u001b[1;32m    264\u001b[0m \u001b[0;34m\u001b[0m\u001b[0m\n",
      "\u001b[0;32m~/project_python/lead-scoring-alessio-marieme/.venv/lib/python3.8/site-packages/sklearn/pipeline.py\u001b[0m in \u001b[0;36m_transform_one\u001b[0;34m(transformer, X, y, weight, **fit_params)\u001b[0m\n\u001b[1;32m    717\u001b[0m \u001b[0;34m\u001b[0m\u001b[0m\n\u001b[1;32m    718\u001b[0m \u001b[0;32mdef\u001b[0m \u001b[0m_transform_one\u001b[0m\u001b[0;34m(\u001b[0m\u001b[0mtransformer\u001b[0m\u001b[0;34m,\u001b[0m \u001b[0mX\u001b[0m\u001b[0;34m,\u001b[0m \u001b[0my\u001b[0m\u001b[0;34m,\u001b[0m \u001b[0mweight\u001b[0m\u001b[0;34m,\u001b[0m \u001b[0;34m**\u001b[0m\u001b[0mfit_params\u001b[0m\u001b[0;34m)\u001b[0m\u001b[0;34m:\u001b[0m\u001b[0;34m\u001b[0m\u001b[0;34m\u001b[0m\u001b[0m\n\u001b[0;32m--> 719\u001b[0;31m     \u001b[0mres\u001b[0m \u001b[0;34m=\u001b[0m \u001b[0mtransformer\u001b[0m\u001b[0;34m.\u001b[0m\u001b[0mtransform\u001b[0m\u001b[0;34m(\u001b[0m\u001b[0mX\u001b[0m\u001b[0;34m)\u001b[0m\u001b[0;34m\u001b[0m\u001b[0;34m\u001b[0m\u001b[0m\n\u001b[0m\u001b[1;32m    720\u001b[0m     \u001b[0;31m# if we have a weight for this transformer, multiply output\u001b[0m\u001b[0;34m\u001b[0m\u001b[0;34m\u001b[0m\u001b[0;34m\u001b[0m\u001b[0m\n\u001b[1;32m    721\u001b[0m     \u001b[0;32mif\u001b[0m \u001b[0mweight\u001b[0m \u001b[0;32mis\u001b[0m \u001b[0;32mNone\u001b[0m\u001b[0;34m:\u001b[0m\u001b[0;34m\u001b[0m\u001b[0;34m\u001b[0m\u001b[0m\n",
      "\u001b[0;32m~/project_python/lead-scoring-alessio-marieme/.venv/lib/python3.8/site-packages/sklearn/pipeline.py\u001b[0m in \u001b[0;36m_transform\u001b[0;34m(self, X)\u001b[0m\n\u001b[1;32m    547\u001b[0m         \u001b[0mXt\u001b[0m \u001b[0;34m=\u001b[0m \u001b[0mX\u001b[0m\u001b[0;34m\u001b[0m\u001b[0;34m\u001b[0m\u001b[0m\n\u001b[1;32m    548\u001b[0m         \u001b[0;32mfor\u001b[0m \u001b[0m_\u001b[0m\u001b[0;34m,\u001b[0m \u001b[0m_\u001b[0m\u001b[0;34m,\u001b[0m \u001b[0mtransform\u001b[0m \u001b[0;32min\u001b[0m \u001b[0mself\u001b[0m\u001b[0;34m.\u001b[0m\u001b[0m_iter\u001b[0m\u001b[0;34m(\u001b[0m\u001b[0;34m)\u001b[0m\u001b[0;34m:\u001b[0m\u001b[0;34m\u001b[0m\u001b[0;34m\u001b[0m\u001b[0m\n\u001b[0;32m--> 549\u001b[0;31m             \u001b[0mXt\u001b[0m \u001b[0;34m=\u001b[0m \u001b[0mtransform\u001b[0m\u001b[0;34m.\u001b[0m\u001b[0mtransform\u001b[0m\u001b[0;34m(\u001b[0m\u001b[0mXt\u001b[0m\u001b[0;34m)\u001b[0m\u001b[0;34m\u001b[0m\u001b[0;34m\u001b[0m\u001b[0m\n\u001b[0m\u001b[1;32m    550\u001b[0m         \u001b[0;32mreturn\u001b[0m \u001b[0mXt\u001b[0m\u001b[0;34m\u001b[0m\u001b[0;34m\u001b[0m\u001b[0m\n\u001b[1;32m    551\u001b[0m \u001b[0;34m\u001b[0m\u001b[0m\n",
      "\u001b[0;32m~/project_python/lead-scoring-alessio-marieme/.venv/lib/python3.8/site-packages/sklearn/preprocessing/_encoders.py\u001b[0m in \u001b[0;36mtransform\u001b[0;34m(self, X)\u001b[0m\n\u001b[1;32m    426\u001b[0m         \u001b[0mcheck_is_fitted\u001b[0m\u001b[0;34m(\u001b[0m\u001b[0mself\u001b[0m\u001b[0;34m)\u001b[0m\u001b[0;34m\u001b[0m\u001b[0;34m\u001b[0m\u001b[0m\n\u001b[1;32m    427\u001b[0m         \u001b[0;31m# validation of X happens in _check_X called by _transform\u001b[0m\u001b[0;34m\u001b[0m\u001b[0;34m\u001b[0m\u001b[0;34m\u001b[0m\u001b[0m\n\u001b[0;32m--> 428\u001b[0;31m         \u001b[0mX_int\u001b[0m\u001b[0;34m,\u001b[0m \u001b[0mX_mask\u001b[0m \u001b[0;34m=\u001b[0m \u001b[0mself\u001b[0m\u001b[0;34m.\u001b[0m\u001b[0m_transform\u001b[0m\u001b[0;34m(\u001b[0m\u001b[0mX\u001b[0m\u001b[0;34m,\u001b[0m \u001b[0mhandle_unknown\u001b[0m\u001b[0;34m=\u001b[0m\u001b[0mself\u001b[0m\u001b[0;34m.\u001b[0m\u001b[0mhandle_unknown\u001b[0m\u001b[0;34m)\u001b[0m\u001b[0;34m\u001b[0m\u001b[0;34m\u001b[0m\u001b[0m\n\u001b[0m\u001b[1;32m    429\u001b[0m \u001b[0;34m\u001b[0m\u001b[0m\n\u001b[1;32m    430\u001b[0m         \u001b[0mn_samples\u001b[0m\u001b[0;34m,\u001b[0m \u001b[0mn_features\u001b[0m \u001b[0;34m=\u001b[0m \u001b[0mX_int\u001b[0m\u001b[0;34m.\u001b[0m\u001b[0mshape\u001b[0m\u001b[0;34m\u001b[0m\u001b[0;34m\u001b[0m\u001b[0m\n",
      "\u001b[0;32m~/project_python/lead-scoring-alessio-marieme/.venv/lib/python3.8/site-packages/sklearn/preprocessing/_encoders.py\u001b[0m in \u001b[0;36m_transform\u001b[0;34m(self, X, handle_unknown)\u001b[0m\n\u001b[1;32m    122\u001b[0m                     msg = (\"Found unknown categories {0} in column {1}\"\n\u001b[1;32m    123\u001b[0m                            \" during transform\".format(diff, i))\n\u001b[0;32m--> 124\u001b[0;31m                     \u001b[0;32mraise\u001b[0m \u001b[0mValueError\u001b[0m\u001b[0;34m(\u001b[0m\u001b[0mmsg\u001b[0m\u001b[0;34m)\u001b[0m\u001b[0;34m\u001b[0m\u001b[0;34m\u001b[0m\u001b[0m\n\u001b[0m\u001b[1;32m    125\u001b[0m                 \u001b[0;32melse\u001b[0m\u001b[0;34m:\u001b[0m\u001b[0;34m\u001b[0m\u001b[0;34m\u001b[0m\u001b[0m\n\u001b[1;32m    126\u001b[0m                     \u001b[0;31m# Set the problematic rows to an acceptable value and\u001b[0m\u001b[0;34m\u001b[0m\u001b[0;34m\u001b[0m\u001b[0;34m\u001b[0m\u001b[0m\n",
      "\u001b[0;31mValueError\u001b[0m: Found unknown categories ['nc_edm'] in column 1 during transform"
     ]
    }
   ],
   "source": [
    "\n",
    "parameters = {'SVM__C':[0.001, 0.1],\n",
    "              'SVM__gamma':[10,1],\n",
    "              'SVM__kernel':[\"linear\", \"poly\", \"rbf\"]}\n",
    "pipeline = Pipeline(steps=[('full_pipeline', full_pipeline), ('SVM', SVC())]) \n",
    "\n",
    "\n",
    "grid = GridSearchCV(pipeline, param_grid=parameters, cv=5)\n",
    "grid.fit(X_train, y_train)\n",
    "\n",
    "print(\"score = %3.2f\" %(grid.score(X_test, y_test)))\n",
    "\n",
    "print(\"best parameters from train data: \", grid.best_params_)"
   ]
  },
  {
   "cell_type": "code",
   "execution_count": null,
   "metadata": {},
   "outputs": [],
   "source": []
  }
 ]
}