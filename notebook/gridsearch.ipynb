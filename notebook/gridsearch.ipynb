{
 "cells": [
  {
   "cell_type": "code",
   "execution_count": 1,
   "metadata": {},
   "outputs": [],
   "source": [
    "import numpy as np \n",
    "import pandas as pd\n",
    "from sklearn.pipeline import FeatureUnion, Pipeline, make_pipeline\n",
    "from sklearn.linear_model import LogisticRegression, SGDClassifier\n",
    "from sklearn.model_selection import train_test_split, GridSearchCV, KFold\n",
    "from sklearn.metrics import confusion_matrix\n",
    "from sklearn.ensemble import RandomForestClassifier\n",
    "from sklearn.neighbors import KNeighborsRegressor, KNeighborsClassifier\n",
    "from sklearn.svm import SVC\n",
    "\n",
    "import matplotlib.pyplot as plt\n",
    "import seaborn as sns \n",
    "\n"
   ]
  },
  {
   "cell_type": "code",
   "execution_count": 4,
   "metadata": {},
   "outputs": [],
   "source": [
    "from lead_scoring_marieme_alessio.config import config \n",
    "from lead_scoring_marieme_alessio.domain.pipeline_transformer import pipeline_transformer\n",
    "from lead_scoring_marieme_alessio.infrastructure.clean_data_transformer import CleanDataTransformer"
   ]
  },
  {
   "cell_type": "code",
   "execution_count": 3,
   "metadata": {},
   "outputs": [],
   "source": [
    "full_pipeline = pipeline_transformer()"
   ]
  },
  {
   "cell_type": "code",
   "execution_count": 4,
   "metadata": {},
   "outputs": [],
   "source": [
    "path = \"../data/data.csv\"\n",
    "clean_data= CleanDataTransformer(path)\n",
    "df_test = clean_data.load_cleaned_data()\n",
    "y = df_test['TARGET']\n",
    "X = df_test.drop('TARGET', axis=1)\n",
    "X_train, X_test, y_train, y_test = train_test_split(X, y, test_size=0.2,random_state = 42)"
   ]
  },
  {
   "cell_type": "code",
   "execution_count": 76,
   "metadata": {},
   "outputs": [],
   "source": [
    "data_transform_train = full_pipeline.fit_transform(X_train, y_train)\n",
    "data_transform_test = full_pipeline.fit_transform(X_test, y_test)"
   ]
  },
  {
   "cell_type": "code",
   "execution_count": 25,
   "metadata": {},
   "outputs": [],
   "source": [
    "parameters_svm = {'C': [0.01, 0.1, 1, 10, 100],  \n",
    "              'gamma':('scale', 'auto'),\n",
    "              'kernel': ('linear','rbf', 'poly')}\n",
    "\n",
    "parameters_log_reg = {'penalty': ('l1','l2'), \n",
    "                    'C': [0.001, 0.01, 0.1, 1, 10, 100, 1000]\n",
    "}\n",
    "\n",
    "parameters_rand_for = {'n_estimators': [10, 50,100], \n",
    "    'criterion': ['entropy', 'gini'], \n",
    "    'max_depth': [2, 3, 5, 10], \n",
    "   'min_samples_split': [2, 3, 5],\n",
    "   'min_samples_leaf': [1,5,8] \n",
    "}\n"
   ]
  },
  {
   "cell_type": "code",
   "execution_count": 51,
   "metadata": {},
   "outputs": [],
   "source": [
    "class Algorithm:\n",
    "    best_score = 0\n",
    "    best_params = 0\n",
    "    \n",
    "    def __init__(self, name, parameters, estimator):\n",
    "        self.name = name\n",
    "        self.parameters = parameters\n",
    "        self.estimator = estimator"
   ]
  },
  {
   "cell_type": "code",
   "execution_count": 52,
   "metadata": {},
   "outputs": [],
   "source": [
    "svm = Algorithm('svm',parameters_svm, SVC())\n",
    "random_forest = Algorithm('random_forest', parameters_rand_for, RandomForestClassifier())\n",
    "reg_log = Algorithm('reg_log', parameters_log_reg, LogisticRegression())\n",
    "\n",
    "algorithms =[svm, random_forest,reg_log]"
   ]
  },
  {
   "cell_type": "code",
   "execution_count": 62,
   "metadata": {},
   "outputs": [],
   "source": [
    "def tune_parameters(algorithms):\n",
    "    for i in range(len(algorithms)):\n",
    "        print('    %s' % algorithms[i].name)\n",
    "        estimator = algorithms[i].estimator\n",
    "        print(estimator)\n",
    "        parameters = algorithms[i].parameters\n",
    "        print(parameters)\n",
    "        clf = GridSearchCV(estimator, parameters, cv=5, n_jobs=3, refit = False)\n",
    "        clf.fit(data_transform, y_train)\n",
    "        algorithms[i].best_score = clf.best_score_\n",
    "        algorithms[i].best_params = clf.best_params_"
   ]
  },
  {
   "cell_type": "code",
   "execution_count": 64,
   "metadata": {},
   "outputs": [
    {
     "name": "stdout",
     "output_type": "stream",
     "text": [
      "    svm\n",
      "SVC()\n",
      "{'C': [0.01, 0.1, 1, 10, 100], 'gamma': ('scale', 'auto'), 'kernel': ('linear', 'rbf', 'poly')}\n"
     ]
    },
    {
     "name": "stderr",
     "output_type": "stream",
     "text": [
      "/home/mgueye/project_python/advanced_machine_learning/lead-scoring-alessio-marieme/.venv/lib/python3.8/site-packages/sklearn/model_selection/_search.py:847: FutureWarning: The parameter 'iid' is deprecated in 0.22 and will be removed in 0.24.\n",
      "  warnings.warn(\n"
     ]
    },
    {
     "name": "stdout",
     "output_type": "stream",
     "text": [
      "    random_forest\n",
      "RandomForestClassifier()\n",
      "{'n_estimators': [10, 50, 100], 'criterion': ['entropy', 'gini'], 'max_depth': [2, 3, 5, 10], 'min_samples_split': [2, 3, 5], 'min_samples_leaf': [1, 5, 8]}\n"
     ]
    },
    {
     "name": "stderr",
     "output_type": "stream",
     "text": [
      "/home/mgueye/project_python/advanced_machine_learning/lead-scoring-alessio-marieme/.venv/lib/python3.8/site-packages/sklearn/model_selection/_search.py:847: FutureWarning: The parameter 'iid' is deprecated in 0.22 and will be removed in 0.24.\n",
      "  warnings.warn(\n"
     ]
    },
    {
     "name": "stdout",
     "output_type": "stream",
     "text": [
      "    reg_log\n",
      "LogisticRegression()\n",
      "{'penalty': ('l1', 'l2'), 'C': [0.001, 0.01, 0.1, 1, 10, 100, 1000]}\n"
     ]
    },
    {
     "name": "stderr",
     "output_type": "stream",
     "text": [
      "/home/mgueye/project_python/advanced_machine_learning/lead-scoring-alessio-marieme/.venv/lib/python3.8/site-packages/sklearn/model_selection/_search.py:847: FutureWarning: The parameter 'iid' is deprecated in 0.22 and will be removed in 0.24.\n",
      "  warnings.warn(\n"
     ]
    }
   ],
   "source": [
    "grid_score = tune_parameters(algorithms)"
   ]
  },
  {
   "cell_type": "code",
   "execution_count": 71,
   "metadata": {},
   "outputs": [
    {
     "name": "stdout",
     "output_type": "stream",
     "text": [
      "svm  :  0.9397610954646985 {'C': 10, 'gamma': 'auto', 'kernel': 'rbf'} \n",
      "\n",
      "random_forest  :  0.9321462099455691 {'criterion': 'gini', 'max_depth': 10, 'min_samples_leaf': 1, 'min_samples_split': 5, 'n_estimators': 100} \n",
      "\n",
      "reg_log  :  0.9301072434412243 {'C': 1, 'penalty': 'l2'} \n",
      "\n"
     ]
    }
   ],
   "source": [
    "for i in range(len(algorithms)):\n",
    "    print(algorithms[i].name, ' : ' ,algorithms[i].best_score, algorithms[i].best_params, '\\n')\n",
    "    "
   ]
  },
  {
   "cell_type": "code",
   "execution_count": 77,
   "metadata": {},
   "outputs": [
    {
     "data": {
      "text/plain": [
       "GridSearchCV(cv=5, estimator=SVC(),\n",
       "             param_grid={'C': [0.0001, 0.001, 0.01, 0.1, 1, 10, 100],\n",
       "                         'gamma': ('scale', 'auto'),\n",
       "                         'kernel': ('linear', 'rbf', 'poly')})"
      ]
     },
     "execution_count": 77,
     "metadata": {},
     "output_type": "execute_result"
    }
   ],
   "source": [
    "parameters = {'C': [0.0001, 0.001, 0.01, 0.1, 1, 10, 100],  \n",
    "              'gamma':('scale', 'auto'),\n",
    "              'kernel': ('linear','rbf', 'poly')}\n",
    "\n",
    "grid = GridSearchCV(SVC(), param_grid=parameters, cv=5)\n",
    "grid.fit(data_transform_train, y_train)\n"
   ]
  },
  {
   "cell_type": "code",
   "execution_count": null,
   "metadata": {},
   "outputs": [],
   "source": [
    "print(\"score = %3.2f\" %(grid.score(data_transform_test, y_test)))\n",
    "print(\"best parameters from train data: \", grid.best_params_)\n",
    "print(\"best_score : \", grid.best_score_)"
   ]
  },
  {
   "cell_type": "code",
   "execution_count": null,
   "metadata": {},
   "outputs": [],
   "source": []
  }
 ],
 "metadata": {
  "kernelspec": {
   "display_name": "Python 3",
   "language": "python",
   "name": "python3"
  },
  "language_info": {
   "codemirror_mode": {
    "name": "ipython",
    "version": 3
   },
   "file_extension": ".py",
   "mimetype": "text/x-python",
   "name": "python",
   "nbconvert_exporter": "python",
   "pygments_lexer": "ipython3",
   "version": "3.8.5"
  }
 },
 "nbformat": 4,
 "nbformat_minor": 2
}
